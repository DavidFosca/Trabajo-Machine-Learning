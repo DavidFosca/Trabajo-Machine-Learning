{
  "nbformat": 4,
  "nbformat_minor": 0,
  "metadata": {
    "colab": {
      "name": "Food Demand Forecasting (Course Work).ipynb",
      "provenance": [],
      "collapsed_sections": [
        "cwNdrwgN79qH"
      ],
      "toc_visible": true,
      "machine_shape": "hm",
      "include_colab_link": true
    },
    "kernelspec": {
      "name": "python3",
      "display_name": "Python 3"
    }
  },
  "cells": [
    {
      "cell_type": "markdown",
      "metadata": {
        "id": "view-in-github",
        "colab_type": "text"
      },
      "source": [
        "<a href=\"https://colab.research.google.com/github/jjrodcast/Trabajo-Machine-Learning/blob/master/Food_Demand_Forecasting_(Course_Work).ipynb\" target=\"_parent\"><img src=\"https://colab.research.google.com/assets/colab-badge.svg\" alt=\"Open In Colab\"/></a>"
      ]
    },
    {
      "cell_type": "markdown",
      "metadata": {
        "id": "9Sd6rQkd_SFj",
        "colab_type": "text"
      },
      "source": [
        "# **Food Demand Forecasting**"
      ]
    },
    {
      "cell_type": "markdown",
      "metadata": {
        "id": "cwNdrwgN79qH",
        "colab_type": "text"
      },
      "source": [
        "##1. Entendimiento del problema\n",
        "\n"
      ]
    },
    {
      "cell_type": "markdown",
      "metadata": {
        "id": "vHRbcoquBNqY",
        "colab_type": "text"
      },
      "source": [
        "###1.1. Panorama general\n",
        "\n",
        "El pronóstico de demanda es muy importante para el crecimiento de los negocios en línea. Sin los procesos de previsión de demanda correctos, puede ser casi imposible tener la cantidad adecuada de insumos en un momento dado.\n",
        "\n",
        "Entrando en detalle, un servicio de entrega de alimentos tiene que lidiar con muchas cantidades de materias primas, lo cuál es un indicador muy importante para que las empresas tenga con la mayor precisión posible la demanda diaria y mensual. El hecho de tener demasiado inventario en el almacén significa un mayor riesgo de desperdicio de materia prima, por otro lado el poco inventario podría llevar a la falta de abastecimiento lo que podría resultar en un mayor problema el cual es, hacer que los clientes busquen soluciones en nuestros competidores\n",
        "\n"
      ]
    },
    {
      "cell_type": "markdown",
      "metadata": {
        "id": "isfU_Hk5CkGA",
        "colab_type": "text"
      },
      "source": [
        "###1.2. Planteamiento del problema\n",
        "\n",
        "El cliente que se tiene es una ***empresa de entrega de comida*** que opera en distintas ciudades. Dicha empresa tiene varios centros de cumplimiento en dichas ciudades para enviar comida a sus clientes. Se quiere tener un ***pronóstico de la demanda de dichos centros*** para las próximas semanas, de tal manera que puedan ***planificar el stock de materias primas***.\n",
        "\n",
        "Tener en cuenta que, la reposición de las materias primas se realiza semanalmente y, debido a que la materia prima es perecedera, la planificación de las adquisiciones es de suma importancia. También, la asignación de personal de cada centro es un importante para que el pronóstico sea realmente útil.\n",
        "\n",
        "**Objetivo:** Predecir la demanda para las próximas 10 semanas para la combinación de los alimentos de los centros en el conjunto de entrenamiento."
      ]
    },
    {
      "cell_type": "markdown",
      "metadata": {
        "id": "i1XijkUe8a8j",
        "colab_type": "text"
      },
      "source": [
        "##2. Pre-Procesamiento de datos"
      ]
    },
    {
      "cell_type": "code",
      "metadata": {
        "id": "9aFJ_d3N1Ft7",
        "colab_type": "code",
        "outputId": "a0186416-4acb-4f01-cca7-6b4503c591f4",
        "colab": {
          "base_uri": "https://localhost:8080/",
          "height": 1000
        }
      },
      "source": [
        "!mkdir data\n",
        "!wget \"https://drive.google.com/uc?export=download&id=1EG9_l6a5rRlTSzEwlNijqLuY7bxW_iuP\" -O data/fulfilment_center_info.csv\n",
        "!wget \"https://drive.google.com/uc?export=download&id=19v-eC9LKjbAH0DMqQpi8Sb0XVxnNm9uq\" -O data/meal_info.csv\n",
        "!wget \"https://drive.google.com/uc?export=download&id=1-zCbExblslglkus85ZCTNWwDh3TiEgkl\" -O data/test.csv\n",
        "!wget \"https://drive.google.com/uc?export=download&id=1DZj2egxfzXYltmL_1M_atDHXMwz6IsR_\" -O data/train.csv"
      ],
      "execution_count": 0,
      "outputs": [
        {
          "output_type": "stream",
          "text": [
            "--2020-04-09 22:15:13--  https://drive.google.com/uc?export=download&id=1EG9_l6a5rRlTSzEwlNijqLuY7bxW_iuP\n",
            "Resolving drive.google.com (drive.google.com)... 172.217.204.113, 172.217.204.100, 172.217.204.101, ...\n",
            "Connecting to drive.google.com (drive.google.com)|172.217.204.113|:443... connected.\n",
            "HTTP request sent, awaiting response... 302 Moved Temporarily\n",
            "Location: https://doc-0c-00-docs.googleusercontent.com/docs/securesc/ha0ro937gcuc7l7deffksulhg5h7mbp1/bmvr1k0ljvgs9b6hi8t8ph1fjbcgr6bm/1586470500000/01100318546325464434/*/1EG9_l6a5rRlTSzEwlNijqLuY7bxW_iuP?e=download [following]\n",
            "Warning: wildcards not supported in HTTP.\n",
            "--2020-04-09 22:15:14--  https://doc-0c-00-docs.googleusercontent.com/docs/securesc/ha0ro937gcuc7l7deffksulhg5h7mbp1/bmvr1k0ljvgs9b6hi8t8ph1fjbcgr6bm/1586470500000/01100318546325464434/*/1EG9_l6a5rRlTSzEwlNijqLuY7bxW_iuP?e=download\n",
            "Resolving doc-0c-00-docs.googleusercontent.com (doc-0c-00-docs.googleusercontent.com)... 173.194.217.132, 2607:f8b0:400c:c13::84\n",
            "Connecting to doc-0c-00-docs.googleusercontent.com (doc-0c-00-docs.googleusercontent.com)|173.194.217.132|:443... connected.\n",
            "HTTP request sent, awaiting response... 200 OK\n",
            "Length: 1661 (1.6K) [text/csv]\n",
            "Saving to: ‘data/fulfilment_center_info.csv’\n",
            "\n",
            "\r          data/fulf   0%[                    ]       0  --.-KB/s               \rdata/fulfilment_cen 100%[===================>]   1.62K  --.-KB/s    in 0s      \n",
            "\n",
            "2020-04-09 22:15:14 (113 MB/s) - ‘data/fulfilment_center_info.csv’ saved [1661/1661]\n",
            "\n",
            "--2020-04-09 22:15:18--  https://drive.google.com/uc?export=download&id=19v-eC9LKjbAH0DMqQpi8Sb0XVxnNm9uq\n",
            "Resolving drive.google.com (drive.google.com)... 172.217.203.102, 172.217.203.101, 172.217.203.100, ...\n",
            "Connecting to drive.google.com (drive.google.com)|172.217.203.102|:443... connected.\n",
            "HTTP request sent, awaiting response... 302 Moved Temporarily\n",
            "Location: https://doc-14-00-docs.googleusercontent.com/docs/securesc/ha0ro937gcuc7l7deffksulhg5h7mbp1/eqlv9ap27l7jbrc1mler8l1g044ei09t/1586470500000/01100318546325464434/*/19v-eC9LKjbAH0DMqQpi8Sb0XVxnNm9uq?e=download [following]\n",
            "Warning: wildcards not supported in HTTP.\n",
            "--2020-04-09 22:15:18--  https://doc-14-00-docs.googleusercontent.com/docs/securesc/ha0ro937gcuc7l7deffksulhg5h7mbp1/eqlv9ap27l7jbrc1mler8l1g044ei09t/1586470500000/01100318546325464434/*/19v-eC9LKjbAH0DMqQpi8Sb0XVxnNm9uq?e=download\n",
            "Resolving doc-14-00-docs.googleusercontent.com (doc-14-00-docs.googleusercontent.com)... 173.194.217.132, 2607:f8b0:400c:c13::84\n",
            "Connecting to doc-14-00-docs.googleusercontent.com (doc-14-00-docs.googleusercontent.com)|173.194.217.132|:443... connected.\n",
            "HTTP request sent, awaiting response... 200 OK\n",
            "Length: 1096 (1.1K) [text/csv]\n",
            "Saving to: ‘data/meal_info.csv’\n",
            "\n",
            "data/meal_info.csv  100%[===================>]   1.07K  --.-KB/s    in 0s      \n",
            "\n",
            "2020-04-09 22:15:19 (68.3 MB/s) - ‘data/meal_info.csv’ saved [1096/1096]\n",
            "\n",
            "--2020-04-09 22:15:22--  https://drive.google.com/uc?export=download&id=1-zCbExblslglkus85ZCTNWwDh3TiEgkl\n",
            "Resolving drive.google.com (drive.google.com)... 172.217.203.102, 172.217.203.101, 172.217.203.100, ...\n",
            "Connecting to drive.google.com (drive.google.com)|172.217.203.102|:443... connected.\n",
            "HTTP request sent, awaiting response... 302 Moved Temporarily\n",
            "Location: https://doc-0c-00-docs.googleusercontent.com/docs/securesc/ha0ro937gcuc7l7deffksulhg5h7mbp1/qeipd7covf1kn879ur1bvip8jf25pr98/1586470500000/01100318546325464434/*/1-zCbExblslglkus85ZCTNWwDh3TiEgkl?e=download [following]\n",
            "Warning: wildcards not supported in HTTP.\n",
            "--2020-04-09 22:15:23--  https://doc-0c-00-docs.googleusercontent.com/docs/securesc/ha0ro937gcuc7l7deffksulhg5h7mbp1/qeipd7covf1kn879ur1bvip8jf25pr98/1586470500000/01100318546325464434/*/1-zCbExblslglkus85ZCTNWwDh3TiEgkl?e=download\n",
            "Resolving doc-0c-00-docs.googleusercontent.com (doc-0c-00-docs.googleusercontent.com)... 173.194.217.132, 2607:f8b0:400c:c13::84\n",
            "Connecting to doc-0c-00-docs.googleusercontent.com (doc-0c-00-docs.googleusercontent.com)|173.194.217.132|:443... connected.\n",
            "HTTP request sent, awaiting response... 200 OK\n",
            "Length: 1239576 (1.2M) [text/csv]\n",
            "Saving to: ‘data/test.csv’\n",
            "\n",
            "data/test.csv       100%[===================>]   1.18M  --.-KB/s    in 0.007s  \n",
            "\n",
            "2020-04-09 22:15:23 (159 MB/s) - ‘data/test.csv’ saved [1239576/1239576]\n",
            "\n",
            "--2020-04-09 22:15:24--  https://drive.google.com/uc?export=download&id=1DZj2egxfzXYltmL_1M_atDHXMwz6IsR_\n",
            "Resolving drive.google.com (drive.google.com)... 173.194.210.113, 173.194.210.138, 173.194.210.100, ...\n",
            "Connecting to drive.google.com (drive.google.com)|173.194.210.113|:443... connected.\n",
            "HTTP request sent, awaiting response... 302 Moved Temporarily\n",
            "Location: https://doc-0g-00-docs.googleusercontent.com/docs/securesc/ha0ro937gcuc7l7deffksulhg5h7mbp1/fmvhi3slpk85oe9q78t807fou15fs0h8/1586470500000/01100318546325464434/*/1DZj2egxfzXYltmL_1M_atDHXMwz6IsR_?e=download [following]\n",
            "Warning: wildcards not supported in HTTP.\n",
            "--2020-04-09 22:15:25--  https://doc-0g-00-docs.googleusercontent.com/docs/securesc/ha0ro937gcuc7l7deffksulhg5h7mbp1/fmvhi3slpk85oe9q78t807fou15fs0h8/1586470500000/01100318546325464434/*/1DZj2egxfzXYltmL_1M_atDHXMwz6IsR_?e=download\n",
            "Resolving doc-0g-00-docs.googleusercontent.com (doc-0g-00-docs.googleusercontent.com)... 173.194.217.132, 2607:f8b0:400c:c13::84\n",
            "Connecting to doc-0g-00-docs.googleusercontent.com (doc-0g-00-docs.googleusercontent.com)|173.194.217.132|:443... connected.\n",
            "HTTP request sent, awaiting response... 200 OK\n",
            "Length: unspecified [text/csv]\n",
            "Saving to: ‘data/train.csv’\n",
            "\n",
            "data/train.csv          [ <=>                ]  17.87M  --.-KB/s    in 0.1s    \n",
            "\n",
            "2020-04-09 22:15:26 (162 MB/s) - ‘data/train.csv’ saved [18733819]\n",
            "\n"
          ],
          "name": "stdout"
        }
      ]
    },
    {
      "cell_type": "code",
      "metadata": {
        "id": "nwU792S39i2F",
        "colab_type": "code",
        "outputId": "f1cd7917-fc3b-48c7-d45b-9050ce55624e",
        "colab": {
          "base_uri": "https://localhost:8080/",
          "height": 74
        }
      },
      "source": [
        "# Importamos las librerias \n",
        "from sklearn.preprocessing import StandardScaler\n",
        "import numpy as np\n",
        "import pandas as pd\n",
        "import seaborn as sns\n",
        "import matplotlib.pyplot as plt\n",
        "\n",
        "sns.set(style=\"white\")"
      ],
      "execution_count": 0,
      "outputs": [
        {
          "output_type": "stream",
          "text": [
            "/usr/local/lib/python3.6/dist-packages/statsmodels/tools/_testing.py:19: FutureWarning: pandas.util.testing is deprecated. Use the functions in the public API at pandas.testing instead.\n",
            "  import pandas.util.testing as tm\n"
          ],
          "name": "stderr"
        }
      ]
    },
    {
      "cell_type": "markdown",
      "metadata": {
        "id": "QFh7dzU-4Iih",
        "colab_type": "text"
      },
      "source": [
        "###2.1. Información del conjunto de entrenamiento"
      ]
    },
    {
      "cell_type": "code",
      "metadata": {
        "id": "BExfM4VAyn2O",
        "colab_type": "code",
        "colab": {}
      },
      "source": [
        "# Cargamos los datos \n",
        "fulfilment_center_info = pd.read_csv('data/fulfilment_center_info.csv')\n",
        "meal_info = pd.read_csv('data/meal_info.csv')\n",
        "train = pd.read_csv('data/train.csv')\n",
        "test = pd.read_csv('data/test.csv')"
      ],
      "execution_count": 0,
      "outputs": []
    },
    {
      "cell_type": "code",
      "metadata": {
        "id": "xMabmSnwzGLi",
        "colab_type": "code",
        "outputId": "654c2b78-eb12-4d86-d412-0bf0da740cae",
        "colab": {
          "base_uri": "https://localhost:8080/",
          "height": 366
        }
      },
      "source": [
        "# Mostramos los primeros datos de entrenamiento\n",
        "print(\"Total de registros Train set: \", train.shape)\n",
        "train.head(10)"
      ],
      "execution_count": 0,
      "outputs": [
        {
          "output_type": "stream",
          "text": [
            "Total de registros Train set:  (456548, 9)\n"
          ],
          "name": "stdout"
        },
        {
          "output_type": "execute_result",
          "data": {
            "text/html": [
              "<div>\n",
              "<style scoped>\n",
              "    .dataframe tbody tr th:only-of-type {\n",
              "        vertical-align: middle;\n",
              "    }\n",
              "\n",
              "    .dataframe tbody tr th {\n",
              "        vertical-align: top;\n",
              "    }\n",
              "\n",
              "    .dataframe thead th {\n",
              "        text-align: right;\n",
              "    }\n",
              "</style>\n",
              "<table border=\"1\" class=\"dataframe\">\n",
              "  <thead>\n",
              "    <tr style=\"text-align: right;\">\n",
              "      <th></th>\n",
              "      <th>id</th>\n",
              "      <th>week</th>\n",
              "      <th>center_id</th>\n",
              "      <th>meal_id</th>\n",
              "      <th>checkout_price</th>\n",
              "      <th>base_price</th>\n",
              "      <th>emailer_for_promotion</th>\n",
              "      <th>homepage_featured</th>\n",
              "      <th>num_orders</th>\n",
              "    </tr>\n",
              "  </thead>\n",
              "  <tbody>\n",
              "    <tr>\n",
              "      <th>0</th>\n",
              "      <td>1379560</td>\n",
              "      <td>1</td>\n",
              "      <td>55</td>\n",
              "      <td>1885</td>\n",
              "      <td>136.83</td>\n",
              "      <td>152.29</td>\n",
              "      <td>0</td>\n",
              "      <td>0</td>\n",
              "      <td>177</td>\n",
              "    </tr>\n",
              "    <tr>\n",
              "      <th>1</th>\n",
              "      <td>1466964</td>\n",
              "      <td>1</td>\n",
              "      <td>55</td>\n",
              "      <td>1993</td>\n",
              "      <td>136.83</td>\n",
              "      <td>135.83</td>\n",
              "      <td>0</td>\n",
              "      <td>0</td>\n",
              "      <td>270</td>\n",
              "    </tr>\n",
              "    <tr>\n",
              "      <th>2</th>\n",
              "      <td>1346989</td>\n",
              "      <td>1</td>\n",
              "      <td>55</td>\n",
              "      <td>2539</td>\n",
              "      <td>134.86</td>\n",
              "      <td>135.86</td>\n",
              "      <td>0</td>\n",
              "      <td>0</td>\n",
              "      <td>189</td>\n",
              "    </tr>\n",
              "    <tr>\n",
              "      <th>3</th>\n",
              "      <td>1338232</td>\n",
              "      <td>1</td>\n",
              "      <td>55</td>\n",
              "      <td>2139</td>\n",
              "      <td>339.50</td>\n",
              "      <td>437.53</td>\n",
              "      <td>0</td>\n",
              "      <td>0</td>\n",
              "      <td>54</td>\n",
              "    </tr>\n",
              "    <tr>\n",
              "      <th>4</th>\n",
              "      <td>1448490</td>\n",
              "      <td>1</td>\n",
              "      <td>55</td>\n",
              "      <td>2631</td>\n",
              "      <td>243.50</td>\n",
              "      <td>242.50</td>\n",
              "      <td>0</td>\n",
              "      <td>0</td>\n",
              "      <td>40</td>\n",
              "    </tr>\n",
              "    <tr>\n",
              "      <th>5</th>\n",
              "      <td>1270037</td>\n",
              "      <td>1</td>\n",
              "      <td>55</td>\n",
              "      <td>1248</td>\n",
              "      <td>251.23</td>\n",
              "      <td>252.23</td>\n",
              "      <td>0</td>\n",
              "      <td>0</td>\n",
              "      <td>28</td>\n",
              "    </tr>\n",
              "    <tr>\n",
              "      <th>6</th>\n",
              "      <td>1191377</td>\n",
              "      <td>1</td>\n",
              "      <td>55</td>\n",
              "      <td>1778</td>\n",
              "      <td>183.36</td>\n",
              "      <td>184.36</td>\n",
              "      <td>0</td>\n",
              "      <td>0</td>\n",
              "      <td>190</td>\n",
              "    </tr>\n",
              "    <tr>\n",
              "      <th>7</th>\n",
              "      <td>1499955</td>\n",
              "      <td>1</td>\n",
              "      <td>55</td>\n",
              "      <td>1062</td>\n",
              "      <td>182.36</td>\n",
              "      <td>183.36</td>\n",
              "      <td>0</td>\n",
              "      <td>0</td>\n",
              "      <td>391</td>\n",
              "    </tr>\n",
              "    <tr>\n",
              "      <th>8</th>\n",
              "      <td>1025244</td>\n",
              "      <td>1</td>\n",
              "      <td>55</td>\n",
              "      <td>2707</td>\n",
              "      <td>193.06</td>\n",
              "      <td>192.06</td>\n",
              "      <td>0</td>\n",
              "      <td>0</td>\n",
              "      <td>472</td>\n",
              "    </tr>\n",
              "    <tr>\n",
              "      <th>9</th>\n",
              "      <td>1054194</td>\n",
              "      <td>1</td>\n",
              "      <td>55</td>\n",
              "      <td>1207</td>\n",
              "      <td>325.92</td>\n",
              "      <td>384.18</td>\n",
              "      <td>0</td>\n",
              "      <td>1</td>\n",
              "      <td>676</td>\n",
              "    </tr>\n",
              "  </tbody>\n",
              "</table>\n",
              "</div>"
            ],
            "text/plain": [
              "        id  week  ...  homepage_featured  num_orders\n",
              "0  1379560     1  ...                  0         177\n",
              "1  1466964     1  ...                  0         270\n",
              "2  1346989     1  ...                  0         189\n",
              "3  1338232     1  ...                  0          54\n",
              "4  1448490     1  ...                  0          40\n",
              "5  1270037     1  ...                  0          28\n",
              "6  1191377     1  ...                  0         190\n",
              "7  1499955     1  ...                  0         391\n",
              "8  1025244     1  ...                  0         472\n",
              "9  1054194     1  ...                  1         676\n",
              "\n",
              "[10 rows x 9 columns]"
            ]
          },
          "metadata": {
            "tags": []
          },
          "execution_count": 4
        }
      ]
    },
    {
      "cell_type": "code",
      "metadata": {
        "id": "DMl1MWIt3kaB",
        "colab_type": "code",
        "outputId": "2494b077-ff49-4a32-8f19-182af6cb0b8d",
        "colab": {
          "base_uri": "https://localhost:8080/",
          "height": 308
        }
      },
      "source": [
        "# Mostramos información de los regitros de entrenamiento\n",
        "train.info()"
      ],
      "execution_count": 0,
      "outputs": [
        {
          "output_type": "stream",
          "text": [
            "<class 'pandas.core.frame.DataFrame'>\n",
            "RangeIndex: 456548 entries, 0 to 456547\n",
            "Data columns (total 9 columns):\n",
            " #   Column                 Non-Null Count   Dtype  \n",
            "---  ------                 --------------   -----  \n",
            " 0   id                     456548 non-null  int64  \n",
            " 1   week                   456548 non-null  int64  \n",
            " 2   center_id              456548 non-null  int64  \n",
            " 3   meal_id                456548 non-null  int64  \n",
            " 4   checkout_price         456548 non-null  float64\n",
            " 5   base_price             456548 non-null  float64\n",
            " 6   emailer_for_promotion  456548 non-null  int64  \n",
            " 7   homepage_featured      456548 non-null  int64  \n",
            " 8   num_orders             456548 non-null  int64  \n",
            "dtypes: float64(2), int64(7)\n",
            "memory usage: 31.3 MB\n"
          ],
          "name": "stdout"
        }
      ]
    },
    {
      "cell_type": "code",
      "metadata": {
        "id": "ZZKN9pry7TrX",
        "colab_type": "code",
        "outputId": "8db071b9-f0e4-4510-847f-972cc43b4aea",
        "colab": {
          "base_uri": "https://localhost:8080/",
          "height": 187
        }
      },
      "source": [
        "# Analizamos los tipos de datos en el dataset de entrenamiento.\n",
        "train.dtypes"
      ],
      "execution_count": 0,
      "outputs": [
        {
          "output_type": "execute_result",
          "data": {
            "text/plain": [
              "id                         int64\n",
              "week                       int64\n",
              "center_id                  int64\n",
              "meal_id                    int64\n",
              "checkout_price           float64\n",
              "base_price               float64\n",
              "emailer_for_promotion      int64\n",
              "homepage_featured          int64\n",
              "num_orders                 int64\n",
              "dtype: object"
            ]
          },
          "metadata": {
            "tags": []
          },
          "execution_count": 49
        }
      ]
    },
    {
      "cell_type": "code",
      "metadata": {
        "id": "Su7oaRde7vnT",
        "colab_type": "code",
        "outputId": "59eb55ae-9092-4c0f-eec7-1ffc7f0569e6",
        "colab": {
          "base_uri": "https://localhost:8080/",
          "height": 317
        }
      },
      "source": [
        "# Realizamos una rápida visualización de la distribución de los datos.\n",
        "train.describe()"
      ],
      "execution_count": 0,
      "outputs": [
        {
          "output_type": "execute_result",
          "data": {
            "text/html": [
              "<div>\n",
              "<style scoped>\n",
              "    .dataframe tbody tr th:only-of-type {\n",
              "        vertical-align: middle;\n",
              "    }\n",
              "\n",
              "    .dataframe tbody tr th {\n",
              "        vertical-align: top;\n",
              "    }\n",
              "\n",
              "    .dataframe thead th {\n",
              "        text-align: right;\n",
              "    }\n",
              "</style>\n",
              "<table border=\"1\" class=\"dataframe\">\n",
              "  <thead>\n",
              "    <tr style=\"text-align: right;\">\n",
              "      <th></th>\n",
              "      <th>id</th>\n",
              "      <th>week</th>\n",
              "      <th>center_id</th>\n",
              "      <th>meal_id</th>\n",
              "      <th>checkout_price</th>\n",
              "      <th>base_price</th>\n",
              "      <th>emailer_for_promotion</th>\n",
              "      <th>homepage_featured</th>\n",
              "      <th>num_orders</th>\n",
              "    </tr>\n",
              "  </thead>\n",
              "  <tbody>\n",
              "    <tr>\n",
              "      <th>count</th>\n",
              "      <td>4.565480e+05</td>\n",
              "      <td>456548.000000</td>\n",
              "      <td>456548.000000</td>\n",
              "      <td>456548.000000</td>\n",
              "      <td>456548.000000</td>\n",
              "      <td>456548.000000</td>\n",
              "      <td>456548.000000</td>\n",
              "      <td>456548.00000</td>\n",
              "      <td>456548.000000</td>\n",
              "    </tr>\n",
              "    <tr>\n",
              "      <th>mean</th>\n",
              "      <td>1.250096e+06</td>\n",
              "      <td>74.768771</td>\n",
              "      <td>82.105796</td>\n",
              "      <td>2024.337458</td>\n",
              "      <td>332.238933</td>\n",
              "      <td>354.156627</td>\n",
              "      <td>0.081152</td>\n",
              "      <td>0.10920</td>\n",
              "      <td>261.872760</td>\n",
              "    </tr>\n",
              "    <tr>\n",
              "      <th>std</th>\n",
              "      <td>1.443548e+05</td>\n",
              "      <td>41.524956</td>\n",
              "      <td>45.975046</td>\n",
              "      <td>547.420920</td>\n",
              "      <td>152.939723</td>\n",
              "      <td>160.715914</td>\n",
              "      <td>0.273069</td>\n",
              "      <td>0.31189</td>\n",
              "      <td>395.922798</td>\n",
              "    </tr>\n",
              "    <tr>\n",
              "      <th>min</th>\n",
              "      <td>1.000000e+06</td>\n",
              "      <td>1.000000</td>\n",
              "      <td>10.000000</td>\n",
              "      <td>1062.000000</td>\n",
              "      <td>2.970000</td>\n",
              "      <td>55.350000</td>\n",
              "      <td>0.000000</td>\n",
              "      <td>0.00000</td>\n",
              "      <td>13.000000</td>\n",
              "    </tr>\n",
              "    <tr>\n",
              "      <th>25%</th>\n",
              "      <td>1.124999e+06</td>\n",
              "      <td>39.000000</td>\n",
              "      <td>43.000000</td>\n",
              "      <td>1558.000000</td>\n",
              "      <td>228.950000</td>\n",
              "      <td>243.500000</td>\n",
              "      <td>0.000000</td>\n",
              "      <td>0.00000</td>\n",
              "      <td>54.000000</td>\n",
              "    </tr>\n",
              "    <tr>\n",
              "      <th>50%</th>\n",
              "      <td>1.250184e+06</td>\n",
              "      <td>76.000000</td>\n",
              "      <td>76.000000</td>\n",
              "      <td>1993.000000</td>\n",
              "      <td>296.820000</td>\n",
              "      <td>310.460000</td>\n",
              "      <td>0.000000</td>\n",
              "      <td>0.00000</td>\n",
              "      <td>136.000000</td>\n",
              "    </tr>\n",
              "    <tr>\n",
              "      <th>75%</th>\n",
              "      <td>1.375140e+06</td>\n",
              "      <td>111.000000</td>\n",
              "      <td>110.000000</td>\n",
              "      <td>2539.000000</td>\n",
              "      <td>445.230000</td>\n",
              "      <td>458.870000</td>\n",
              "      <td>0.000000</td>\n",
              "      <td>0.00000</td>\n",
              "      <td>324.000000</td>\n",
              "    </tr>\n",
              "    <tr>\n",
              "      <th>max</th>\n",
              "      <td>1.499999e+06</td>\n",
              "      <td>145.000000</td>\n",
              "      <td>186.000000</td>\n",
              "      <td>2956.000000</td>\n",
              "      <td>866.270000</td>\n",
              "      <td>866.270000</td>\n",
              "      <td>1.000000</td>\n",
              "      <td>1.00000</td>\n",
              "      <td>24299.000000</td>\n",
              "    </tr>\n",
              "  </tbody>\n",
              "</table>\n",
              "</div>"
            ],
            "text/plain": [
              "                 id           week  ...  homepage_featured     num_orders\n",
              "count  4.565480e+05  456548.000000  ...       456548.00000  456548.000000\n",
              "mean   1.250096e+06      74.768771  ...            0.10920     261.872760\n",
              "std    1.443548e+05      41.524956  ...            0.31189     395.922798\n",
              "min    1.000000e+06       1.000000  ...            0.00000      13.000000\n",
              "25%    1.124999e+06      39.000000  ...            0.00000      54.000000\n",
              "50%    1.250184e+06      76.000000  ...            0.00000     136.000000\n",
              "75%    1.375140e+06     111.000000  ...            0.00000     324.000000\n",
              "max    1.499999e+06     145.000000  ...            1.00000   24299.000000\n",
              "\n",
              "[8 rows x 9 columns]"
            ]
          },
          "metadata": {
            "tags": []
          },
          "execution_count": 50
        }
      ]
    },
    {
      "cell_type": "markdown",
      "metadata": {
        "id": "hjgUpqvw4ZNq",
        "colab_type": "text"
      },
      "source": [
        "###2.2. Información del conjunto de pruebas"
      ]
    },
    {
      "cell_type": "code",
      "metadata": {
        "id": "qmJHJW_LzQg1",
        "colab_type": "code",
        "outputId": "3c5018db-1948-4070-94e8-c5e0b83d01aa",
        "colab": {
          "base_uri": "https://localhost:8080/",
          "height": 376
        }
      },
      "source": [
        "# Mostramos los primeros datos de pruebas\n",
        "print(\"Total de registros Test set: \", test.shape)\n",
        "test.head(10)"
      ],
      "execution_count": 0,
      "outputs": [
        {
          "output_type": "stream",
          "text": [
            "Total de registros Test set:  (32573, 8)\n"
          ],
          "name": "stdout"
        },
        {
          "output_type": "execute_result",
          "data": {
            "text/html": [
              "<div>\n",
              "<style scoped>\n",
              "    .dataframe tbody tr th:only-of-type {\n",
              "        vertical-align: middle;\n",
              "    }\n",
              "\n",
              "    .dataframe tbody tr th {\n",
              "        vertical-align: top;\n",
              "    }\n",
              "\n",
              "    .dataframe thead th {\n",
              "        text-align: right;\n",
              "    }\n",
              "</style>\n",
              "<table border=\"1\" class=\"dataframe\">\n",
              "  <thead>\n",
              "    <tr style=\"text-align: right;\">\n",
              "      <th></th>\n",
              "      <th>id</th>\n",
              "      <th>week</th>\n",
              "      <th>center_id</th>\n",
              "      <th>meal_id</th>\n",
              "      <th>checkout_price</th>\n",
              "      <th>base_price</th>\n",
              "      <th>emailer_for_promotion</th>\n",
              "      <th>homepage_featured</th>\n",
              "    </tr>\n",
              "  </thead>\n",
              "  <tbody>\n",
              "    <tr>\n",
              "      <th>0</th>\n",
              "      <td>1028232</td>\n",
              "      <td>146</td>\n",
              "      <td>55</td>\n",
              "      <td>1885</td>\n",
              "      <td>158.11</td>\n",
              "      <td>159.11</td>\n",
              "      <td>0</td>\n",
              "      <td>0</td>\n",
              "    </tr>\n",
              "    <tr>\n",
              "      <th>1</th>\n",
              "      <td>1127204</td>\n",
              "      <td>146</td>\n",
              "      <td>55</td>\n",
              "      <td>1993</td>\n",
              "      <td>160.11</td>\n",
              "      <td>159.11</td>\n",
              "      <td>0</td>\n",
              "      <td>0</td>\n",
              "    </tr>\n",
              "    <tr>\n",
              "      <th>2</th>\n",
              "      <td>1212707</td>\n",
              "      <td>146</td>\n",
              "      <td>55</td>\n",
              "      <td>2539</td>\n",
              "      <td>157.14</td>\n",
              "      <td>159.14</td>\n",
              "      <td>0</td>\n",
              "      <td>0</td>\n",
              "    </tr>\n",
              "    <tr>\n",
              "      <th>3</th>\n",
              "      <td>1082698</td>\n",
              "      <td>146</td>\n",
              "      <td>55</td>\n",
              "      <td>2631</td>\n",
              "      <td>162.02</td>\n",
              "      <td>162.02</td>\n",
              "      <td>0</td>\n",
              "      <td>0</td>\n",
              "    </tr>\n",
              "    <tr>\n",
              "      <th>4</th>\n",
              "      <td>1400926</td>\n",
              "      <td>146</td>\n",
              "      <td>55</td>\n",
              "      <td>1248</td>\n",
              "      <td>163.93</td>\n",
              "      <td>163.93</td>\n",
              "      <td>0</td>\n",
              "      <td>0</td>\n",
              "    </tr>\n",
              "    <tr>\n",
              "      <th>5</th>\n",
              "      <td>1284113</td>\n",
              "      <td>146</td>\n",
              "      <td>55</td>\n",
              "      <td>1778</td>\n",
              "      <td>190.15</td>\n",
              "      <td>190.15</td>\n",
              "      <td>0</td>\n",
              "      <td>0</td>\n",
              "    </tr>\n",
              "    <tr>\n",
              "      <th>6</th>\n",
              "      <td>1197966</td>\n",
              "      <td>146</td>\n",
              "      <td>55</td>\n",
              "      <td>1062</td>\n",
              "      <td>191.09</td>\n",
              "      <td>192.09</td>\n",
              "      <td>0</td>\n",
              "      <td>0</td>\n",
              "    </tr>\n",
              "    <tr>\n",
              "      <th>7</th>\n",
              "      <td>1132739</td>\n",
              "      <td>146</td>\n",
              "      <td>55</td>\n",
              "      <td>2707</td>\n",
              "      <td>242.56</td>\n",
              "      <td>240.56</td>\n",
              "      <td>0</td>\n",
              "      <td>0</td>\n",
              "    </tr>\n",
              "    <tr>\n",
              "      <th>8</th>\n",
              "      <td>1057981</td>\n",
              "      <td>146</td>\n",
              "      <td>55</td>\n",
              "      <td>1207</td>\n",
              "      <td>360.90</td>\n",
              "      <td>360.90</td>\n",
              "      <td>0</td>\n",
              "      <td>0</td>\n",
              "    </tr>\n",
              "    <tr>\n",
              "      <th>9</th>\n",
              "      <td>1095932</td>\n",
              "      <td>146</td>\n",
              "      <td>55</td>\n",
              "      <td>1230</td>\n",
              "      <td>383.18</td>\n",
              "      <td>384.18</td>\n",
              "      <td>0</td>\n",
              "      <td>0</td>\n",
              "    </tr>\n",
              "  </tbody>\n",
              "</table>\n",
              "</div>"
            ],
            "text/plain": [
              "        id  week  ...  emailer_for_promotion  homepage_featured\n",
              "0  1028232   146  ...                      0                  0\n",
              "1  1127204   146  ...                      0                  0\n",
              "2  1212707   146  ...                      0                  0\n",
              "3  1082698   146  ...                      0                  0\n",
              "4  1400926   146  ...                      0                  0\n",
              "5  1284113   146  ...                      0                  0\n",
              "6  1197966   146  ...                      0                  0\n",
              "7  1132739   146  ...                      0                  0\n",
              "8  1057981   146  ...                      0                  0\n",
              "9  1095932   146  ...                      0                  0\n",
              "\n",
              "[10 rows x 8 columns]"
            ]
          },
          "metadata": {
            "tags": []
          },
          "execution_count": 51
        }
      ]
    },
    {
      "cell_type": "code",
      "metadata": {
        "id": "n4ynuga83t9d",
        "colab_type": "code",
        "outputId": "7e313760-37ee-400e-bc6c-d7394eb14ae6",
        "colab": {
          "base_uri": "https://localhost:8080/",
          "height": 272
        }
      },
      "source": [
        "# Mostramos información de los registros de pruebas\n",
        "test.info()"
      ],
      "execution_count": 0,
      "outputs": [
        {
          "output_type": "stream",
          "text": [
            "<class 'pandas.core.frame.DataFrame'>\n",
            "RangeIndex: 32573 entries, 0 to 32572\n",
            "Data columns (total 8 columns):\n",
            " #   Column                 Non-Null Count  Dtype  \n",
            "---  ------                 --------------  -----  \n",
            " 0   id                     32573 non-null  int64  \n",
            " 1   week                   32573 non-null  int64  \n",
            " 2   center_id              32573 non-null  int64  \n",
            " 3   meal_id                32573 non-null  int64  \n",
            " 4   checkout_price         32573 non-null  float64\n",
            " 5   base_price             32573 non-null  float64\n",
            " 6   emailer_for_promotion  32573 non-null  int64  \n",
            " 7   homepage_featured      32573 non-null  int64  \n",
            "dtypes: float64(2), int64(6)\n",
            "memory usage: 2.0 MB\n"
          ],
          "name": "stdout"
        }
      ]
    },
    {
      "cell_type": "code",
      "metadata": {
        "id": "9BgxOvsG7bca",
        "colab_type": "code",
        "outputId": "5e5befe3-c2eb-4096-ca82-e11a6d30e1c9",
        "colab": {
          "base_uri": "https://localhost:8080/",
          "height": 170
        }
      },
      "source": [
        "# Analizamos los tipos de datos en el dataset de pruebas\n",
        "test.dtypes"
      ],
      "execution_count": 0,
      "outputs": [
        {
          "output_type": "execute_result",
          "data": {
            "text/plain": [
              "id                         int64\n",
              "week                       int64\n",
              "center_id                  int64\n",
              "meal_id                    int64\n",
              "checkout_price           float64\n",
              "base_price               float64\n",
              "emailer_for_promotion      int64\n",
              "homepage_featured          int64\n",
              "dtype: object"
            ]
          },
          "metadata": {
            "tags": []
          },
          "execution_count": 53
        }
      ]
    },
    {
      "cell_type": "markdown",
      "metadata": {
        "id": "7HcLeCBO4n0n",
        "colab_type": "text"
      },
      "source": [
        "###2.3. Información de los centros y comidas"
      ]
    },
    {
      "cell_type": "code",
      "metadata": {
        "id": "jlww6gx84yJY",
        "colab_type": "code",
        "outputId": "bbe1ef7a-e960-4c77-fda0-7f0ac821e5e5",
        "colab": {
          "base_uri": "https://localhost:8080/",
          "height": 221
        }
      },
      "source": [
        "# Mostramos primeros datos de los centros\n",
        "print(fulfilment_center_info.shape)\n",
        "fulfilment_center_info.head()"
      ],
      "execution_count": 0,
      "outputs": [
        {
          "output_type": "stream",
          "text": [
            "(77, 5)\n"
          ],
          "name": "stdout"
        },
        {
          "output_type": "execute_result",
          "data": {
            "text/html": [
              "<div>\n",
              "<style scoped>\n",
              "    .dataframe tbody tr th:only-of-type {\n",
              "        vertical-align: middle;\n",
              "    }\n",
              "\n",
              "    .dataframe tbody tr th {\n",
              "        vertical-align: top;\n",
              "    }\n",
              "\n",
              "    .dataframe thead th {\n",
              "        text-align: right;\n",
              "    }\n",
              "</style>\n",
              "<table border=\"1\" class=\"dataframe\">\n",
              "  <thead>\n",
              "    <tr style=\"text-align: right;\">\n",
              "      <th></th>\n",
              "      <th>center_id</th>\n",
              "      <th>city_code</th>\n",
              "      <th>region_code</th>\n",
              "      <th>center_type</th>\n",
              "      <th>op_area</th>\n",
              "    </tr>\n",
              "  </thead>\n",
              "  <tbody>\n",
              "    <tr>\n",
              "      <th>0</th>\n",
              "      <td>11</td>\n",
              "      <td>679</td>\n",
              "      <td>56</td>\n",
              "      <td>TYPE_A</td>\n",
              "      <td>3.7</td>\n",
              "    </tr>\n",
              "    <tr>\n",
              "      <th>1</th>\n",
              "      <td>13</td>\n",
              "      <td>590</td>\n",
              "      <td>56</td>\n",
              "      <td>TYPE_B</td>\n",
              "      <td>6.7</td>\n",
              "    </tr>\n",
              "    <tr>\n",
              "      <th>2</th>\n",
              "      <td>124</td>\n",
              "      <td>590</td>\n",
              "      <td>56</td>\n",
              "      <td>TYPE_C</td>\n",
              "      <td>4.0</td>\n",
              "    </tr>\n",
              "    <tr>\n",
              "      <th>3</th>\n",
              "      <td>66</td>\n",
              "      <td>648</td>\n",
              "      <td>34</td>\n",
              "      <td>TYPE_A</td>\n",
              "      <td>4.1</td>\n",
              "    </tr>\n",
              "    <tr>\n",
              "      <th>4</th>\n",
              "      <td>94</td>\n",
              "      <td>632</td>\n",
              "      <td>34</td>\n",
              "      <td>TYPE_C</td>\n",
              "      <td>3.6</td>\n",
              "    </tr>\n",
              "  </tbody>\n",
              "</table>\n",
              "</div>"
            ],
            "text/plain": [
              "   center_id  city_code  region_code center_type  op_area\n",
              "0         11        679           56      TYPE_A      3.7\n",
              "1         13        590           56      TYPE_B      6.7\n",
              "2        124        590           56      TYPE_C      4.0\n",
              "3         66        648           34      TYPE_A      4.1\n",
              "4         94        632           34      TYPE_C      3.6"
            ]
          },
          "metadata": {
            "tags": []
          },
          "execution_count": 54
        }
      ]
    },
    {
      "cell_type": "code",
      "metadata": {
        "id": "PonHbANF6mvP",
        "colab_type": "code",
        "outputId": "0236f419-16a4-4547-a534-918ff0e89904",
        "colab": {
          "base_uri": "https://localhost:8080/",
          "height": 221
        }
      },
      "source": [
        "# Mostramos información de los centros\n",
        "fulfilment_center_info.info()"
      ],
      "execution_count": 0,
      "outputs": [
        {
          "output_type": "stream",
          "text": [
            "<class 'pandas.core.frame.DataFrame'>\n",
            "RangeIndex: 77 entries, 0 to 76\n",
            "Data columns (total 5 columns):\n",
            " #   Column       Non-Null Count  Dtype  \n",
            "---  ------       --------------  -----  \n",
            " 0   center_id    77 non-null     int64  \n",
            " 1   city_code    77 non-null     int64  \n",
            " 2   region_code  77 non-null     int64  \n",
            " 3   center_type  77 non-null     object \n",
            " 4   op_area      77 non-null     float64\n",
            "dtypes: float64(1), int64(3), object(1)\n",
            "memory usage: 3.1+ KB\n"
          ],
          "name": "stdout"
        }
      ]
    },
    {
      "cell_type": "code",
      "metadata": {
        "id": "OT8BONfiEKEZ",
        "colab_type": "code",
        "outputId": "fe7f8de8-9f9d-4f3c-8a91-e35e0d491432",
        "colab": {
          "base_uri": "https://localhost:8080/",
          "height": 119
        }
      },
      "source": [
        "# Valores únicos de centros\n",
        "fulfilment_center_info.nunique()"
      ],
      "execution_count": 0,
      "outputs": [
        {
          "output_type": "execute_result",
          "data": {
            "text/plain": [
              "center_id      77\n",
              "city_code      51\n",
              "region_code     8\n",
              "center_type     3\n",
              "op_area        30\n",
              "dtype: int64"
            ]
          },
          "metadata": {
            "tags": []
          },
          "execution_count": 56
        }
      ]
    },
    {
      "cell_type": "code",
      "metadata": {
        "id": "F3hUcRG348Jj",
        "colab_type": "code",
        "outputId": "3b87eab0-c208-47a1-a126-7f806a1b4c03",
        "colab": {
          "base_uri": "https://localhost:8080/",
          "height": 221
        }
      },
      "source": [
        "# Mostramos primeros datos de alimentos\n",
        "print(meal_info.shape)\n",
        "meal_info.head()"
      ],
      "execution_count": 0,
      "outputs": [
        {
          "output_type": "stream",
          "text": [
            "(51, 3)\n"
          ],
          "name": "stdout"
        },
        {
          "output_type": "execute_result",
          "data": {
            "text/html": [
              "<div>\n",
              "<style scoped>\n",
              "    .dataframe tbody tr th:only-of-type {\n",
              "        vertical-align: middle;\n",
              "    }\n",
              "\n",
              "    .dataframe tbody tr th {\n",
              "        vertical-align: top;\n",
              "    }\n",
              "\n",
              "    .dataframe thead th {\n",
              "        text-align: right;\n",
              "    }\n",
              "</style>\n",
              "<table border=\"1\" class=\"dataframe\">\n",
              "  <thead>\n",
              "    <tr style=\"text-align: right;\">\n",
              "      <th></th>\n",
              "      <th>meal_id</th>\n",
              "      <th>category</th>\n",
              "      <th>cuisine</th>\n",
              "    </tr>\n",
              "  </thead>\n",
              "  <tbody>\n",
              "    <tr>\n",
              "      <th>0</th>\n",
              "      <td>1885</td>\n",
              "      <td>Beverages</td>\n",
              "      <td>Thai</td>\n",
              "    </tr>\n",
              "    <tr>\n",
              "      <th>1</th>\n",
              "      <td>1993</td>\n",
              "      <td>Beverages</td>\n",
              "      <td>Thai</td>\n",
              "    </tr>\n",
              "    <tr>\n",
              "      <th>2</th>\n",
              "      <td>2539</td>\n",
              "      <td>Beverages</td>\n",
              "      <td>Thai</td>\n",
              "    </tr>\n",
              "    <tr>\n",
              "      <th>3</th>\n",
              "      <td>1248</td>\n",
              "      <td>Beverages</td>\n",
              "      <td>Indian</td>\n",
              "    </tr>\n",
              "    <tr>\n",
              "      <th>4</th>\n",
              "      <td>2631</td>\n",
              "      <td>Beverages</td>\n",
              "      <td>Indian</td>\n",
              "    </tr>\n",
              "  </tbody>\n",
              "</table>\n",
              "</div>"
            ],
            "text/plain": [
              "   meal_id   category cuisine\n",
              "0     1885  Beverages    Thai\n",
              "1     1993  Beverages    Thai\n",
              "2     2539  Beverages    Thai\n",
              "3     1248  Beverages  Indian\n",
              "4     2631  Beverages  Indian"
            ]
          },
          "metadata": {
            "tags": []
          },
          "execution_count": 57
        }
      ]
    },
    {
      "cell_type": "code",
      "metadata": {
        "id": "0fiOMCiZ61iw",
        "colab_type": "code",
        "outputId": "e15dd6a3-8637-4d97-e431-880da373d300",
        "colab": {
          "base_uri": "https://localhost:8080/",
          "height": 187
        }
      },
      "source": [
        "# Mostramos información de los alimentos\n",
        "meal_info.info()"
      ],
      "execution_count": 0,
      "outputs": [
        {
          "output_type": "stream",
          "text": [
            "<class 'pandas.core.frame.DataFrame'>\n",
            "RangeIndex: 51 entries, 0 to 50\n",
            "Data columns (total 3 columns):\n",
            " #   Column    Non-Null Count  Dtype \n",
            "---  ------    --------------  ----- \n",
            " 0   meal_id   51 non-null     int64 \n",
            " 1   category  51 non-null     object\n",
            " 2   cuisine   51 non-null     object\n",
            "dtypes: int64(1), object(2)\n",
            "memory usage: 1.3+ KB\n"
          ],
          "name": "stdout"
        }
      ]
    },
    {
      "cell_type": "code",
      "metadata": {
        "id": "Hy5RCkXhD7Pk",
        "colab_type": "code",
        "outputId": "43bbffed-d332-4710-bffc-6e5e59b102d1",
        "colab": {
          "base_uri": "https://localhost:8080/",
          "height": 85
        }
      },
      "source": [
        "# Valores únicos de comidas\n",
        "meal_info.nunique()"
      ],
      "execution_count": 0,
      "outputs": [
        {
          "output_type": "execute_result",
          "data": {
            "text/plain": [
              "meal_id     51\n",
              "category    14\n",
              "cuisine      4\n",
              "dtype: int64"
            ]
          },
          "metadata": {
            "tags": []
          },
          "execution_count": 59
        }
      ]
    },
    {
      "cell_type": "markdown",
      "metadata": {
        "id": "AKLkz2-k5fKr",
        "colab_type": "text"
      },
      "source": [
        "###2.4. Verificación de datos faltantes"
      ]
    },
    {
      "cell_type": "code",
      "metadata": {
        "id": "LZyaScef6LkO",
        "colab_type": "code",
        "outputId": "03734a45-dd88-411f-a0e7-49571e6e5e5a",
        "colab": {
          "base_uri": "https://localhost:8080/",
          "height": 187
        }
      },
      "source": [
        "# Verificamos si hay valores nulos en el conjunto de entrenamiento\n",
        "train.isnull().sum()"
      ],
      "execution_count": 0,
      "outputs": [
        {
          "output_type": "execute_result",
          "data": {
            "text/plain": [
              "id                       0\n",
              "week                     0\n",
              "center_id                0\n",
              "meal_id                  0\n",
              "checkout_price           0\n",
              "base_price               0\n",
              "emailer_for_promotion    0\n",
              "homepage_featured        0\n",
              "num_orders               0\n",
              "dtype: int64"
            ]
          },
          "metadata": {
            "tags": []
          },
          "execution_count": 60
        }
      ]
    },
    {
      "cell_type": "code",
      "metadata": {
        "id": "4kp5_atM5q9D",
        "colab_type": "code",
        "outputId": "0a122097-d199-4afe-91c9-5545b00c9ca1",
        "colab": {
          "base_uri": "https://localhost:8080/",
          "height": 119
        }
      },
      "source": [
        "# Verificamos si hay valores nulos en centros\n",
        "fulfilment_center_info.isnull().sum()"
      ],
      "execution_count": 0,
      "outputs": [
        {
          "output_type": "execute_result",
          "data": {
            "text/plain": [
              "center_id      0\n",
              "city_code      0\n",
              "region_code    0\n",
              "center_type    0\n",
              "op_area        0\n",
              "dtype: int64"
            ]
          },
          "metadata": {
            "tags": []
          },
          "execution_count": 61
        }
      ]
    },
    {
      "cell_type": "code",
      "metadata": {
        "id": "jMi93S-h54Ey",
        "colab_type": "code",
        "outputId": "86b9b9c6-7365-4f25-ed31-568d5f061534",
        "colab": {
          "base_uri": "https://localhost:8080/",
          "height": 85
        }
      },
      "source": [
        "# Verificamos si hay valores nulos en comidas\n",
        "meal_info.isnull().sum()"
      ],
      "execution_count": 0,
      "outputs": [
        {
          "output_type": "execute_result",
          "data": {
            "text/plain": [
              "meal_id     0\n",
              "category    0\n",
              "cuisine     0\n",
              "dtype: int64"
            ]
          },
          "metadata": {
            "tags": []
          },
          "execution_count": 62
        }
      ]
    },
    {
      "cell_type": "markdown",
      "metadata": {
        "id": "ImqaCAz68K29",
        "colab_type": "text"
      },
      "source": [
        "###2.5. Combinamos la data de entrenamiento, centros y comidas"
      ]
    },
    {
      "cell_type": "code",
      "metadata": {
        "id": "--c5UyNf8V2L",
        "colab_type": "code",
        "outputId": "a3ace9b7-b350-4362-e595-5e8f483f67ac",
        "colab": {
          "base_uri": "https://localhost:8080/",
          "height": 236
        }
      },
      "source": [
        "# Juntamos los datos en un solo archivo\n",
        "dataset = pd.merge(train, fulfilment_center_info, how='inner', left_on='center_id', right_on='center_id')\n",
        "dataset = pd.merge(dataset, meal_info, how='inner', left_on='meal_id', right_on='meal_id')\n",
        "print(dataset.shape)\n",
        "dataset.tail()"
      ],
      "execution_count": 0,
      "outputs": [
        {
          "output_type": "stream",
          "text": [
            "(456548, 15)\n"
          ],
          "name": "stdout"
        },
        {
          "output_type": "execute_result",
          "data": {
            "text/html": [
              "<div>\n",
              "<style scoped>\n",
              "    .dataframe tbody tr th:only-of-type {\n",
              "        vertical-align: middle;\n",
              "    }\n",
              "\n",
              "    .dataframe tbody tr th {\n",
              "        vertical-align: top;\n",
              "    }\n",
              "\n",
              "    .dataframe thead th {\n",
              "        text-align: right;\n",
              "    }\n",
              "</style>\n",
              "<table border=\"1\" class=\"dataframe\">\n",
              "  <thead>\n",
              "    <tr style=\"text-align: right;\">\n",
              "      <th></th>\n",
              "      <th>id</th>\n",
              "      <th>week</th>\n",
              "      <th>center_id</th>\n",
              "      <th>meal_id</th>\n",
              "      <th>checkout_price</th>\n",
              "      <th>base_price</th>\n",
              "      <th>emailer_for_promotion</th>\n",
              "      <th>homepage_featured</th>\n",
              "      <th>num_orders</th>\n",
              "      <th>city_code</th>\n",
              "      <th>region_code</th>\n",
              "      <th>center_type</th>\n",
              "      <th>op_area</th>\n",
              "      <th>category</th>\n",
              "      <th>cuisine</th>\n",
              "    </tr>\n",
              "  </thead>\n",
              "  <tbody>\n",
              "    <tr>\n",
              "      <th>456543</th>\n",
              "      <td>1437396</td>\n",
              "      <td>141</td>\n",
              "      <td>61</td>\n",
              "      <td>2104</td>\n",
              "      <td>583.03</td>\n",
              "      <td>630.53</td>\n",
              "      <td>0</td>\n",
              "      <td>1</td>\n",
              "      <td>13</td>\n",
              "      <td>473</td>\n",
              "      <td>77</td>\n",
              "      <td>TYPE_A</td>\n",
              "      <td>4.5</td>\n",
              "      <td>Fish</td>\n",
              "      <td>Continental</td>\n",
              "    </tr>\n",
              "    <tr>\n",
              "      <th>456544</th>\n",
              "      <td>1060716</td>\n",
              "      <td>142</td>\n",
              "      <td>61</td>\n",
              "      <td>2104</td>\n",
              "      <td>581.03</td>\n",
              "      <td>582.03</td>\n",
              "      <td>0</td>\n",
              "      <td>0</td>\n",
              "      <td>42</td>\n",
              "      <td>473</td>\n",
              "      <td>77</td>\n",
              "      <td>TYPE_A</td>\n",
              "      <td>4.5</td>\n",
              "      <td>Fish</td>\n",
              "      <td>Continental</td>\n",
              "    </tr>\n",
              "    <tr>\n",
              "      <th>456545</th>\n",
              "      <td>1029231</td>\n",
              "      <td>143</td>\n",
              "      <td>61</td>\n",
              "      <td>2104</td>\n",
              "      <td>583.03</td>\n",
              "      <td>581.03</td>\n",
              "      <td>0</td>\n",
              "      <td>0</td>\n",
              "      <td>40</td>\n",
              "      <td>473</td>\n",
              "      <td>77</td>\n",
              "      <td>TYPE_A</td>\n",
              "      <td>4.5</td>\n",
              "      <td>Fish</td>\n",
              "      <td>Continental</td>\n",
              "    </tr>\n",
              "    <tr>\n",
              "      <th>456546</th>\n",
              "      <td>1141147</td>\n",
              "      <td>144</td>\n",
              "      <td>61</td>\n",
              "      <td>2104</td>\n",
              "      <td>582.03</td>\n",
              "      <td>581.03</td>\n",
              "      <td>0</td>\n",
              "      <td>0</td>\n",
              "      <td>53</td>\n",
              "      <td>473</td>\n",
              "      <td>77</td>\n",
              "      <td>TYPE_A</td>\n",
              "      <td>4.5</td>\n",
              "      <td>Fish</td>\n",
              "      <td>Continental</td>\n",
              "    </tr>\n",
              "    <tr>\n",
              "      <th>456547</th>\n",
              "      <td>1443704</td>\n",
              "      <td>145</td>\n",
              "      <td>61</td>\n",
              "      <td>2104</td>\n",
              "      <td>581.03</td>\n",
              "      <td>582.03</td>\n",
              "      <td>0</td>\n",
              "      <td>0</td>\n",
              "      <td>27</td>\n",
              "      <td>473</td>\n",
              "      <td>77</td>\n",
              "      <td>TYPE_A</td>\n",
              "      <td>4.5</td>\n",
              "      <td>Fish</td>\n",
              "      <td>Continental</td>\n",
              "    </tr>\n",
              "  </tbody>\n",
              "</table>\n",
              "</div>"
            ],
            "text/plain": [
              "             id  week  center_id  ...  op_area  category      cuisine\n",
              "456543  1437396   141         61  ...      4.5      Fish  Continental\n",
              "456544  1060716   142         61  ...      4.5      Fish  Continental\n",
              "456545  1029231   143         61  ...      4.5      Fish  Continental\n",
              "456546  1141147   144         61  ...      4.5      Fish  Continental\n",
              "456547  1443704   145         61  ...      4.5      Fish  Continental\n",
              "\n",
              "[5 rows x 15 columns]"
            ]
          },
          "metadata": {
            "tags": []
          },
          "execution_count": 19
        }
      ]
    },
    {
      "cell_type": "code",
      "metadata": {
        "id": "9KhBw1m2836y",
        "colab_type": "code",
        "outputId": "c3345612-3d4e-44bc-8213-8e23087cf272",
        "colab": {
          "base_uri": "https://localhost:8080/",
          "height": 308
        }
      },
      "source": [
        "# Analizamos los datos a alto nivel\n",
        "dataset.describe()"
      ],
      "execution_count": 0,
      "outputs": [
        {
          "output_type": "execute_result",
          "data": {
            "text/html": [
              "<div>\n",
              "<style scoped>\n",
              "    .dataframe tbody tr th:only-of-type {\n",
              "        vertical-align: middle;\n",
              "    }\n",
              "\n",
              "    .dataframe tbody tr th {\n",
              "        vertical-align: top;\n",
              "    }\n",
              "\n",
              "    .dataframe thead th {\n",
              "        text-align: right;\n",
              "    }\n",
              "</style>\n",
              "<table border=\"1\" class=\"dataframe\">\n",
              "  <thead>\n",
              "    <tr style=\"text-align: right;\">\n",
              "      <th></th>\n",
              "      <th>id</th>\n",
              "      <th>week</th>\n",
              "      <th>center_id</th>\n",
              "      <th>meal_id</th>\n",
              "      <th>checkout_price</th>\n",
              "      <th>base_price</th>\n",
              "      <th>emailer_for_promotion</th>\n",
              "      <th>homepage_featured</th>\n",
              "      <th>num_orders</th>\n",
              "      <th>city_code</th>\n",
              "      <th>region_code</th>\n",
              "      <th>op_area</th>\n",
              "    </tr>\n",
              "  </thead>\n",
              "  <tbody>\n",
              "    <tr>\n",
              "      <th>count</th>\n",
              "      <td>4.565480e+05</td>\n",
              "      <td>456548.000000</td>\n",
              "      <td>456548.000000</td>\n",
              "      <td>456548.000000</td>\n",
              "      <td>456548.000000</td>\n",
              "      <td>456548.000000</td>\n",
              "      <td>456548.000000</td>\n",
              "      <td>456548.00000</td>\n",
              "      <td>456548.000000</td>\n",
              "      <td>456548.000000</td>\n",
              "      <td>456548.000000</td>\n",
              "      <td>456548.000000</td>\n",
              "    </tr>\n",
              "    <tr>\n",
              "      <th>mean</th>\n",
              "      <td>1.250096e+06</td>\n",
              "      <td>74.768771</td>\n",
              "      <td>82.105796</td>\n",
              "      <td>2024.337458</td>\n",
              "      <td>332.238933</td>\n",
              "      <td>354.156627</td>\n",
              "      <td>0.081152</td>\n",
              "      <td>0.10920</td>\n",
              "      <td>261.872760</td>\n",
              "      <td>601.553399</td>\n",
              "      <td>56.614566</td>\n",
              "      <td>4.083590</td>\n",
              "    </tr>\n",
              "    <tr>\n",
              "      <th>std</th>\n",
              "      <td>1.443548e+05</td>\n",
              "      <td>41.524956</td>\n",
              "      <td>45.975046</td>\n",
              "      <td>547.420920</td>\n",
              "      <td>152.939723</td>\n",
              "      <td>160.715914</td>\n",
              "      <td>0.273069</td>\n",
              "      <td>0.31189</td>\n",
              "      <td>395.922798</td>\n",
              "      <td>66.195914</td>\n",
              "      <td>17.641306</td>\n",
              "      <td>1.091686</td>\n",
              "    </tr>\n",
              "    <tr>\n",
              "      <th>min</th>\n",
              "      <td>1.000000e+06</td>\n",
              "      <td>1.000000</td>\n",
              "      <td>10.000000</td>\n",
              "      <td>1062.000000</td>\n",
              "      <td>2.970000</td>\n",
              "      <td>55.350000</td>\n",
              "      <td>0.000000</td>\n",
              "      <td>0.00000</td>\n",
              "      <td>13.000000</td>\n",
              "      <td>456.000000</td>\n",
              "      <td>23.000000</td>\n",
              "      <td>0.900000</td>\n",
              "    </tr>\n",
              "    <tr>\n",
              "      <th>25%</th>\n",
              "      <td>1.124999e+06</td>\n",
              "      <td>39.000000</td>\n",
              "      <td>43.000000</td>\n",
              "      <td>1558.000000</td>\n",
              "      <td>228.950000</td>\n",
              "      <td>243.500000</td>\n",
              "      <td>0.000000</td>\n",
              "      <td>0.00000</td>\n",
              "      <td>54.000000</td>\n",
              "      <td>553.000000</td>\n",
              "      <td>34.000000</td>\n",
              "      <td>3.600000</td>\n",
              "    </tr>\n",
              "    <tr>\n",
              "      <th>50%</th>\n",
              "      <td>1.250184e+06</td>\n",
              "      <td>76.000000</td>\n",
              "      <td>76.000000</td>\n",
              "      <td>1993.000000</td>\n",
              "      <td>296.820000</td>\n",
              "      <td>310.460000</td>\n",
              "      <td>0.000000</td>\n",
              "      <td>0.00000</td>\n",
              "      <td>136.000000</td>\n",
              "      <td>596.000000</td>\n",
              "      <td>56.000000</td>\n",
              "      <td>4.000000</td>\n",
              "    </tr>\n",
              "    <tr>\n",
              "      <th>75%</th>\n",
              "      <td>1.375140e+06</td>\n",
              "      <td>111.000000</td>\n",
              "      <td>110.000000</td>\n",
              "      <td>2539.000000</td>\n",
              "      <td>445.230000</td>\n",
              "      <td>458.870000</td>\n",
              "      <td>0.000000</td>\n",
              "      <td>0.00000</td>\n",
              "      <td>324.000000</td>\n",
              "      <td>651.000000</td>\n",
              "      <td>77.000000</td>\n",
              "      <td>4.500000</td>\n",
              "    </tr>\n",
              "    <tr>\n",
              "      <th>max</th>\n",
              "      <td>1.499999e+06</td>\n",
              "      <td>145.000000</td>\n",
              "      <td>186.000000</td>\n",
              "      <td>2956.000000</td>\n",
              "      <td>866.270000</td>\n",
              "      <td>866.270000</td>\n",
              "      <td>1.000000</td>\n",
              "      <td>1.00000</td>\n",
              "      <td>24299.000000</td>\n",
              "      <td>713.000000</td>\n",
              "      <td>93.000000</td>\n",
              "      <td>7.000000</td>\n",
              "    </tr>\n",
              "  </tbody>\n",
              "</table>\n",
              "</div>"
            ],
            "text/plain": [
              "                 id           week  ...    region_code        op_area\n",
              "count  4.565480e+05  456548.000000  ...  456548.000000  456548.000000\n",
              "mean   1.250096e+06      74.768771  ...      56.614566       4.083590\n",
              "std    1.443548e+05      41.524956  ...      17.641306       1.091686\n",
              "min    1.000000e+06       1.000000  ...      23.000000       0.900000\n",
              "25%    1.124999e+06      39.000000  ...      34.000000       3.600000\n",
              "50%    1.250184e+06      76.000000  ...      56.000000       4.000000\n",
              "75%    1.375140e+06     111.000000  ...      77.000000       4.500000\n",
              "max    1.499999e+06     145.000000  ...      93.000000       7.000000\n",
              "\n",
              "[8 rows x 12 columns]"
            ]
          },
          "metadata": {
            "tags": []
          },
          "execution_count": 8
        }
      ]
    },
    {
      "cell_type": "code",
      "metadata": {
        "id": "ALxTbAVW9bup",
        "colab_type": "code",
        "outputId": "fcba5d8e-460e-42bb-de46-0c11ddc7b412",
        "colab": {
          "base_uri": "https://localhost:8080/",
          "height": 391
        }
      },
      "source": [
        "# Verificamos los tipos de datos, y que no existan datos nulos o NaN.\n",
        "dataset.info()"
      ],
      "execution_count": 0,
      "outputs": [
        {
          "output_type": "stream",
          "text": [
            "<class 'pandas.core.frame.DataFrame'>\n",
            "Int64Index: 456548 entries, 0 to 456547\n",
            "Data columns (total 15 columns):\n",
            " #   Column                 Non-Null Count   Dtype  \n",
            "---  ------                 --------------   -----  \n",
            " 0   id                     456548 non-null  int64  \n",
            " 1   week                   456548 non-null  int64  \n",
            " 2   center_id              456548 non-null  int64  \n",
            " 3   meal_id                456548 non-null  int64  \n",
            " 4   checkout_price         456548 non-null  float64\n",
            " 5   base_price             456548 non-null  float64\n",
            " 6   emailer_for_promotion  456548 non-null  int64  \n",
            " 7   homepage_featured      456548 non-null  int64  \n",
            " 8   num_orders             456548 non-null  int64  \n",
            " 9   city_code              456548 non-null  int64  \n",
            " 10  region_code            456548 non-null  int64  \n",
            " 11  center_type            456548 non-null  object \n",
            " 12  op_area                456548 non-null  float64\n",
            " 13  category               456548 non-null  object \n",
            " 14  cuisine                456548 non-null  object \n",
            "dtypes: float64(3), int64(9), object(3)\n",
            "memory usage: 55.7+ MB\n"
          ],
          "name": "stdout"
        }
      ]
    },
    {
      "cell_type": "markdown",
      "metadata": {
        "id": "YiDRm0OR9207",
        "colab_type": "text"
      },
      "source": [
        "###2.6. Eliminación de columnas"
      ]
    },
    {
      "cell_type": "code",
      "metadata": {
        "id": "7LxzxH55A-KO",
        "colab_type": "code",
        "colab": {}
      },
      "source": [
        "# Eliminanos 'id'\n",
        "dataset.drop(['id'], axis=1, inplace=True)"
      ],
      "execution_count": 0,
      "outputs": []
    },
    {
      "cell_type": "markdown",
      "metadata": {
        "id": "_h_JB8SDCE7y",
        "colab_type": "text"
      },
      "source": [
        "###2.7. Análisis de variables y Visualizaciones"
      ]
    },
    {
      "cell_type": "code",
      "metadata": {
        "id": "dngNlQfcFEda",
        "colab_type": "code",
        "outputId": "912df967-9c5d-4caf-e775-389f7dda8137",
        "colab": {
          "base_uri": "https://localhost:8080/",
          "height": 585
        }
      },
      "source": [
        "# Creación de correlación\n",
        "plt.figure(figsize=(8, 8))\n",
        "correlation = dataset.corr(method='pearson')\n",
        "sns.heatmap(correlation, cbar=True, annot=True,square=True ,fmt='.2f')"
      ],
      "execution_count": 0,
      "outputs": [
        {
          "output_type": "execute_result",
          "data": {
            "text/plain": [
              "<matplotlib.axes._subplots.AxesSubplot at 0x7f5bd41e0cf8>"
            ]
          },
          "metadata": {
            "tags": []
          },
          "execution_count": 21
        },
        {
          "output_type": "display_data",
          "data": {
            "image/png": "[encoded data removed]",
            "text/plain": [
              "<Figure size 576x576 with 2 Axes>"
            ]
          },
          "metadata": {
            "tags": []
          }
        }
      ]
    },
    {
      "cell_type": "markdown",
      "metadata": {
        "id": "vhLeAAqtGkGX",
        "colab_type": "text"
      },
      "source": [
        "En el gráfico se puede apreciar que hay una correlación alta entre las variables ***checkout_price*** y ***base_price*** (0.95), por lo cual nos quedaremos con ***checkout_price*** ya que contiene el precio total (impuestos, descuentos y costo de envío)"
      ]
    },
    {
      "cell_type": "code",
      "metadata": {
        "id": "no-axzupKFwD",
        "colab_type": "code",
        "outputId": "a371997e-c867-436d-8111-e479ba66353e",
        "colab": {
          "base_uri": "https://localhost:8080/",
          "height": 492
        }
      },
      "source": [
        "# Visualización de Cantidad de Pedidos vs Categorias\n",
        "plt.figure(figsize=(6, 6))\n",
        "sns.barplot(dataset['category'], dataset['num_orders'])\n",
        "plt.xticks(rotation = 90)"
      ],
      "execution_count": 0,
      "outputs": [
        {
          "output_type": "execute_result",
          "data": {
            "text/plain": [
              "(array([ 0,  1,  2,  3,  4,  5,  6,  7,  8,  9, 10, 11, 12, 13]),\n",
              " <a list of 14 Text major ticklabel objects>)"
            ]
          },
          "metadata": {
            "tags": []
          },
          "execution_count": 68
        },
        {
          "output_type": "display_data",
          "data": {
            "image/png": "[encoded data removed]",
            "text/plain": [
              "<Figure size 432x432 with 1 Axes>"
            ]
          },
          "metadata": {
            "tags": []
          }
        }
      ]
    },
    {
      "cell_type": "markdown",
      "metadata": {
        "id": "k-PhTU8lQpo3",
        "colab_type": "text"
      },
      "source": [
        "Podemos visualizar que las tres categorías más solicitadas son ***rice bowl*** , ***sandwich*** y ***salad***"
      ]
    },
    {
      "cell_type": "code",
      "metadata": {
        "id": "00bAFMHzNJNB",
        "colab_type": "code",
        "outputId": "2ebfba2f-e23c-4f5e-c9d0-4c8ea0aceffb",
        "colab": {
          "base_uri": "https://localhost:8080/",
          "height": 411
        }
      },
      "source": [
        "# Visualización de Cantidad de Pedidos vs Cocinas\n",
        "plt.figure(figsize=(6, 6))\n",
        "sns.barplot(dataset['cuisine'], dataset['num_orders'])"
      ],
      "execution_count": 0,
      "outputs": [
        {
          "output_type": "execute_result",
          "data": {
            "text/plain": [
              "<matplotlib.axes._subplots.AxesSubplot at 0x7f96947c7470>"
            ]
          },
          "metadata": {
            "tags": []
          },
          "execution_count": 69
        },
        {
          "output_type": "display_data",
          "data": {
            "image/png": "[encoded data removed]",
            "text/plain": [
              "<Figure size 432x432 with 1 Axes>"
            ]
          },
          "metadata": {
            "tags": []
          }
        }
      ]
    },
    {
      "cell_type": "markdown",
      "metadata": {
        "id": "tcGKP5j0RAPi",
        "colab_type": "text"
      },
      "source": [
        "Podemos visualizar que la cocina que prefieren los consumidores de esta empresa es la ***Italiana***"
      ]
    },
    {
      "cell_type": "code",
      "metadata": {
        "id": "yJJq2Z2zOPGu",
        "colab_type": "code",
        "outputId": "bc330afa-ec50-41c3-ae90-ca1018164b99",
        "colab": {
          "base_uri": "https://localhost:8080/",
          "height": 561
        }
      },
      "source": [
        "# Visualización de Cantidad de Pedidos vs Centros\n",
        "plt.figure(figsize=(8, 8))\n",
        "sns.barplot(dataset['op_area'], dataset['num_orders'])\n",
        "plt.xticks(rotation = 90)"
      ],
      "execution_count": 0,
      "outputs": [
        {
          "output_type": "execute_result",
          "data": {
            "text/plain": [
              "(array([ 0,  1,  2,  3,  4,  5,  6,  7,  8,  9, 10, 11, 12, 13, 14, 15, 16,\n",
              "        17, 18, 19, 20, 21, 22, 23, 24, 25, 26, 27, 28, 29]),\n",
              " <a list of 30 Text major ticklabel objects>)"
            ]
          },
          "metadata": {
            "tags": []
          },
          "execution_count": 70
        },
        {
          "output_type": "display_data",
          "data": {
            "image/png": "[encoded data removed]",
            "text/plain": [
              "<Figure size 576x576 with 1 Axes>"
            ]
          },
          "metadata": {
            "tags": []
          }
        }
      ]
    },
    {
      "cell_type": "code",
      "metadata": {
        "id": "LAxxBZsZYIff",
        "colab_type": "code",
        "outputId": "fb0ecad7-204f-43b1-bcd7-f53871d1ff5d",
        "colab": {
          "base_uri": "https://localhost:8080/",
          "height": 141
        }
      },
      "source": [
        "# Visualizamos las variables vs target\n",
        "p = sns.pairplot(dataset, x_vars=['week','checkout_price','base_price','emailer_for_promotion','homepage_featured','city_code','region_code','center_type','op_area','category','cuisine'], y_vars='num_orders', height=7, aspect=0.7)"
      ],
      "execution_count": 0,
      "outputs": [
        {
          "output_type": "display_data",
          "data": {
            "image/png": "[encoded data removed]",
            "text/plain": [
              "<Figure size 3880.8x504 with 11 Axes>"
            ]
          },
          "metadata": {
            "tags": []
          }
        }
      ]
    },
    {
      "cell_type": "code",
      "metadata": {
        "id": "ZpaXxyEzZUxn",
        "colab_type": "code",
        "outputId": "f1a5a829-57b6-4066-9874-00d89a87f600",
        "colab": {
          "base_uri": "https://localhost:8080/",
          "height": 285
        }
      },
      "source": [
        "# Visualizamos el boxplot de las variables.\n",
        "sns.boxplot(data=dataset.drop(columns=[\"num_orders\"]), orient=\"h\")"
      ],
      "execution_count": 0,
      "outputs": [
        {
          "output_type": "execute_result",
          "data": {
            "text/plain": [
              "<matplotlib.axes._subplots.AxesSubplot at 0x7f96942e90f0>"
            ]
          },
          "metadata": {
            "tags": []
          },
          "execution_count": 72
        },
        {
          "output_type": "display_data",
          "data": {
            "image/png": "[encoded data removed]",
            "text/plain": [
              "<Figure size 432x288 with 1 Axes>"
            ]
          },
          "metadata": {
            "tags": []
          }
        }
      ]
    },
    {
      "cell_type": "markdown",
      "metadata": {
        "id": "CJyconlD-MeO",
        "colab_type": "text"
      },
      "source": [
        "###2.8. Eliminación de outliers"
      ]
    },
    {
      "cell_type": "code",
      "metadata": {
        "id": "S0zYiylu-Ron",
        "colab_type": "code",
        "colab": {}
      },
      "source": [
        "# Como se pudo visualizar en el pairplot, tenemos un outlier cuyo valor\n",
        "# aproximado en número de pedidos es mayor a 15000\n",
        "dataset = dataset[dataset['num_orders'] <= 15000]"
      ],
      "execution_count": 0,
      "outputs": []
    },
    {
      "cell_type": "code",
      "metadata": {
        "id": "Yeo6yW3CYKn4",
        "colab_type": "code",
        "outputId": "5a1e895a-9d88-4368-d65a-dbe8233a15fd",
        "colab": {
          "base_uri": "https://localhost:8080/",
          "height": 374
        }
      },
      "source": [
        "dataset.info()"
      ],
      "execution_count": 0,
      "outputs": [
        {
          "output_type": "stream",
          "text": [
            "<class 'pandas.core.frame.DataFrame'>\n",
            "Int64Index: 456546 entries, 0 to 456547\n",
            "Data columns (total 14 columns):\n",
            " #   Column                 Non-Null Count   Dtype  \n",
            "---  ------                 --------------   -----  \n",
            " 0   week                   456546 non-null  int64  \n",
            " 1   center_id              456546 non-null  int64  \n",
            " 2   meal_id                456546 non-null  int64  \n",
            " 3   checkout_price         456546 non-null  float64\n",
            " 4   base_price             456546 non-null  float64\n",
            " 5   emailer_for_promotion  456546 non-null  int64  \n",
            " 6   homepage_featured      456546 non-null  int64  \n",
            " 7   num_orders             456546 non-null  int64  \n",
            " 8   city_code              456546 non-null  int64  \n",
            " 9   region_code            456546 non-null  int64  \n",
            " 10  center_type            456546 non-null  object \n",
            " 11  op_area                456546 non-null  float64\n",
            " 12  category               456546 non-null  object \n",
            " 13  cuisine                456546 non-null  object \n",
            "dtypes: float64(3), int64(8), object(3)\n",
            "memory usage: 52.2+ MB\n"
          ],
          "name": "stdout"
        }
      ]
    },
    {
      "cell_type": "markdown",
      "metadata": {
        "id": "G7I4aMdnQGrz",
        "colab_type": "text"
      },
      "source": [
        "###2.10. Escalamiento de datos"
      ]
    },
    {
      "cell_type": "code",
      "metadata": {
        "id": "BxQuTN_pUpP6",
        "colab_type": "code",
        "outputId": "d1d69b2f-3322-433a-cde6-600f5b207d3b",
        "colab": {
          "base_uri": "https://localhost:8080/",
          "height": 218
        }
      },
      "source": [
        "# Obtenemos la columnas númericas\n",
        "numeric_cols = [col for col in dataset.columns \\\n",
        "              if pd.api.types.is_numeric_dtype(dataset[col]) and col != 'num_orders']\n",
        "\n",
        "# Realizamos el escalamiento de datos\n",
        "scaler = StandardScaler()\n",
        "X_scaled = scaler.fit_transform(dataset[numeric_cols])\n",
        "\n",
        "for col, scaled_data in zip(numeric_cols, X_scaled.T):\n",
        "  dataset[col] = scaled_data\n",
        " \n",
        "dataset.head()"
      ],
      "execution_count": 0,
      "outputs": [
        {
          "output_type": "execute_result",
          "data": {
            "text/html": [
              "<div>\n",
              "<style scoped>\n",
              "    .dataframe tbody tr th:only-of-type {\n",
              "        vertical-align: middle;\n",
              "    }\n",
              "\n",
              "    .dataframe tbody tr th {\n",
              "        vertical-align: top;\n",
              "    }\n",
              "\n",
              "    .dataframe thead th {\n",
              "        text-align: right;\n",
              "    }\n",
              "</style>\n",
              "<table border=\"1\" class=\"dataframe\">\n",
              "  <thead>\n",
              "    <tr style=\"text-align: right;\">\n",
              "      <th></th>\n",
              "      <th>week</th>\n",
              "      <th>center_id</th>\n",
              "      <th>meal_id</th>\n",
              "      <th>checkout_price</th>\n",
              "      <th>base_price</th>\n",
              "      <th>emailer_for_promotion</th>\n",
              "      <th>homepage_featured</th>\n",
              "      <th>num_orders</th>\n",
              "      <th>city_code</th>\n",
              "      <th>region_code</th>\n",
              "      <th>center_type</th>\n",
              "      <th>op_area</th>\n",
              "      <th>category</th>\n",
              "      <th>cuisine</th>\n",
              "    </tr>\n",
              "  </thead>\n",
              "  <tbody>\n",
              "    <tr>\n",
              "      <th>0</th>\n",
              "      <td>-1.776508</td>\n",
              "      <td>-0.58958</td>\n",
              "      <td>-0.254532</td>\n",
              "      <td>-1.277693</td>\n",
              "      <td>-1.256046</td>\n",
              "      <td>-0.297179</td>\n",
              "      <td>-0.350116</td>\n",
              "      <td>177</td>\n",
              "      <td>0.686545</td>\n",
              "      <td>-0.034837</td>\n",
              "      <td>TYPE_C</td>\n",
              "      <td>-1.908595</td>\n",
              "      <td>Beverages</td>\n",
              "      <td>Thai</td>\n",
              "    </tr>\n",
              "    <tr>\n",
              "      <th>1</th>\n",
              "      <td>-1.752426</td>\n",
              "      <td>-0.58958</td>\n",
              "      <td>-0.254532</td>\n",
              "      <td>-1.284232</td>\n",
              "      <td>-1.256046</td>\n",
              "      <td>-0.297179</td>\n",
              "      <td>-0.350116</td>\n",
              "      <td>323</td>\n",
              "      <td>0.686545</td>\n",
              "      <td>-0.034837</td>\n",
              "      <td>TYPE_C</td>\n",
              "      <td>-1.908595</td>\n",
              "      <td>Beverages</td>\n",
              "      <td>Thai</td>\n",
              "    </tr>\n",
              "    <tr>\n",
              "      <th>2</th>\n",
              "      <td>-1.728344</td>\n",
              "      <td>-0.58958</td>\n",
              "      <td>-0.254532</td>\n",
              "      <td>-1.303259</td>\n",
              "      <td>-1.370347</td>\n",
              "      <td>-0.297179</td>\n",
              "      <td>-0.350116</td>\n",
              "      <td>96</td>\n",
              "      <td>0.686545</td>\n",
              "      <td>-0.034837</td>\n",
              "      <td>TYPE_C</td>\n",
              "      <td>-1.908595</td>\n",
              "      <td>Beverages</td>\n",
              "      <td>Thai</td>\n",
              "    </tr>\n",
              "    <tr>\n",
              "      <th>3</th>\n",
              "      <td>-1.704262</td>\n",
              "      <td>-0.58958</td>\n",
              "      <td>-0.254532</td>\n",
              "      <td>-1.284035</td>\n",
              "      <td>-1.364498</td>\n",
              "      <td>-0.297179</td>\n",
              "      <td>-0.350116</td>\n",
              "      <td>163</td>\n",
              "      <td>0.686545</td>\n",
              "      <td>-0.034837</td>\n",
              "      <td>TYPE_C</td>\n",
              "      <td>-1.908595</td>\n",
              "      <td>Beverages</td>\n",
              "      <td>Thai</td>\n",
              "    </tr>\n",
              "    <tr>\n",
              "      <th>4</th>\n",
              "      <td>-1.680180</td>\n",
              "      <td>-0.58958</td>\n",
              "      <td>-0.254532</td>\n",
              "      <td>-1.214465</td>\n",
              "      <td>-1.285850</td>\n",
              "      <td>-0.297179</td>\n",
              "      <td>-0.350116</td>\n",
              "      <td>215</td>\n",
              "      <td>0.686545</td>\n",
              "      <td>-0.034837</td>\n",
              "      <td>TYPE_C</td>\n",
              "      <td>-1.908595</td>\n",
              "      <td>Beverages</td>\n",
              "      <td>Thai</td>\n",
              "    </tr>\n",
              "  </tbody>\n",
              "</table>\n",
              "</div>"
            ],
            "text/plain": [
              "       week  center_id   meal_id  ...   op_area   category  cuisine\n",
              "0 -1.776508   -0.58958 -0.254532  ... -1.908595  Beverages     Thai\n",
              "1 -1.752426   -0.58958 -0.254532  ... -1.908595  Beverages     Thai\n",
              "2 -1.728344   -0.58958 -0.254532  ... -1.908595  Beverages     Thai\n",
              "3 -1.704262   -0.58958 -0.254532  ... -1.908595  Beverages     Thai\n",
              "4 -1.680180   -0.58958 -0.254532  ... -1.908595  Beverages     Thai\n",
              "\n",
              "[5 rows x 14 columns]"
            ]
          },
          "metadata": {
            "tags": []
          },
          "execution_count": 23
        }
      ]
    },
    {
      "cell_type": "code",
      "metadata": {
        "id": "UKNMmXcXYVbq",
        "colab_type": "code",
        "outputId": "c38c4db1-8199-40b6-ea66-c4a256b2ebb2",
        "colab": {
          "base_uri": "https://localhost:8080/",
          "height": 317
        }
      },
      "source": [
        "# Verificamos que el valor de la media sea 0 y la desviación estandar 1.\n",
        "dataset.describe()"
      ],
      "execution_count": 0,
      "outputs": [
        {
          "output_type": "execute_result",
          "data": {
            "text/html": [
              "<div>\n",
              "<style scoped>\n",
              "    .dataframe tbody tr th:only-of-type {\n",
              "        vertical-align: middle;\n",
              "    }\n",
              "\n",
              "    .dataframe tbody tr th {\n",
              "        vertical-align: top;\n",
              "    }\n",
              "\n",
              "    .dataframe thead th {\n",
              "        text-align: right;\n",
              "    }\n",
              "</style>\n",
              "<table border=\"1\" class=\"dataframe\">\n",
              "  <thead>\n",
              "    <tr style=\"text-align: right;\">\n",
              "      <th></th>\n",
              "      <th>week</th>\n",
              "      <th>center_id</th>\n",
              "      <th>meal_id</th>\n",
              "      <th>checkout_price</th>\n",
              "      <th>base_price</th>\n",
              "      <th>emailer_for_promotion</th>\n",
              "      <th>homepage_featured</th>\n",
              "      <th>num_orders</th>\n",
              "      <th>city_code</th>\n",
              "      <th>region_code</th>\n",
              "      <th>op_area</th>\n",
              "    </tr>\n",
              "  </thead>\n",
              "  <tbody>\n",
              "    <tr>\n",
              "      <th>count</th>\n",
              "      <td>4.565460e+05</td>\n",
              "      <td>4.565460e+05</td>\n",
              "      <td>4.565460e+05</td>\n",
              "      <td>4.565460e+05</td>\n",
              "      <td>4.565460e+05</td>\n",
              "      <td>4.565460e+05</td>\n",
              "      <td>4.565460e+05</td>\n",
              "      <td>456546.000000</td>\n",
              "      <td>4.565460e+05</td>\n",
              "      <td>4.565460e+05</td>\n",
              "      <td>4.565460e+05</td>\n",
              "    </tr>\n",
              "    <tr>\n",
              "      <th>mean</th>\n",
              "      <td>2.584827e-15</td>\n",
              "      <td>1.873986e-14</td>\n",
              "      <td>-1.838500e-13</td>\n",
              "      <td>1.350744e-15</td>\n",
              "      <td>1.967369e-13</td>\n",
              "      <td>3.135957e-13</td>\n",
              "      <td>2.242013e-13</td>\n",
              "      <td>261.787093</td>\n",
              "      <td>6.396246e-15</td>\n",
              "      <td>8.821585e-15</td>\n",
              "      <td>-3.242897e-14</td>\n",
              "    </tr>\n",
              "    <tr>\n",
              "      <th>std</th>\n",
              "      <td>1.000001e+00</td>\n",
              "      <td>1.000001e+00</td>\n",
              "      <td>1.000001e+00</td>\n",
              "      <td>1.000001e+00</td>\n",
              "      <td>1.000001e+00</td>\n",
              "      <td>1.000001e+00</td>\n",
              "      <td>1.000001e+00</td>\n",
              "      <td>393.690576</td>\n",
              "      <td>1.000001e+00</td>\n",
              "      <td>1.000001e+00</td>\n",
              "      <td>1.000001e+00</td>\n",
              "    </tr>\n",
              "    <tr>\n",
              "      <th>min</th>\n",
              "      <td>-1.776508e+00</td>\n",
              "      <td>-1.568373e+00</td>\n",
              "      <td>-1.757945e+00</td>\n",
              "      <td>-2.152941e+00</td>\n",
              "      <td>-1.859222e+00</td>\n",
              "      <td>-2.971785e-01</td>\n",
              "      <td>-3.501163e-01</td>\n",
              "      <td>13.000000</td>\n",
              "      <td>-2.198826e+00</td>\n",
              "      <td>-1.905445e+00</td>\n",
              "      <td>-2.916211e+00</td>\n",
              "    </tr>\n",
              "    <tr>\n",
              "      <th>25%</th>\n",
              "      <td>-8.613916e-01</td>\n",
              "      <td>-8.505916e-01</td>\n",
              "      <td>-8.518783e-01</td>\n",
              "      <td>-6.753632e-01</td>\n",
              "      <td>-6.885237e-01</td>\n",
              "      <td>-2.971785e-01</td>\n",
              "      <td>-3.501163e-01</td>\n",
              "      <td>54.000000</td>\n",
              "      <td>-7.334803e-01</td>\n",
              "      <td>-1.281909e+00</td>\n",
              "      <td>-4.429714e-01</td>\n",
              "    </tr>\n",
              "    <tr>\n",
              "      <th>50%</th>\n",
              "      <td>2.964322e-02</td>\n",
              "      <td>-1.328105e-01</td>\n",
              "      <td>-5.724348e-02</td>\n",
              "      <td>-2.315929e-01</td>\n",
              "      <td>-2.718883e-01</td>\n",
              "      <td>-2.971785e-01</td>\n",
              "      <td>-3.501163e-01</td>\n",
              "      <td>136.000000</td>\n",
              "      <td>-8.389405e-02</td>\n",
              "      <td>-3.483689e-02</td>\n",
              "      <td>-7.656549e-02</td>\n",
              "    </tr>\n",
              "    <tr>\n",
              "      <th>75%</th>\n",
              "      <td>8.725140e-01</td>\n",
              "      <td>6.067214e-01</td>\n",
              "      <td>9.401603e-01</td>\n",
              "      <td>7.387911e-01</td>\n",
              "      <td>6.515415e-01</td>\n",
              "      <td>-2.971785e-01</td>\n",
              "      <td>-3.501163e-01</td>\n",
              "      <td>324.000000</td>\n",
              "      <td>7.469721e-01</td>\n",
              "      <td>1.155550e+00</td>\n",
              "      <td>3.814419e-01</td>\n",
              "    </tr>\n",
              "    <tr>\n",
              "      <th>max</th>\n",
              "      <td>1.691303e+00</td>\n",
              "      <td>2.259793e+00</td>\n",
              "      <td>1.701914e+00</td>\n",
              "      <td>3.491776e+00</td>\n",
              "      <td>3.186447e+00</td>\n",
              "      <td>3.364981e+00</td>\n",
              "      <td>2.856194e+00</td>\n",
              "      <td>14229.000000</td>\n",
              "      <td>1.683585e+00</td>\n",
              "      <td>2.062511e+00</td>\n",
              "      <td>2.671479e+00</td>\n",
              "    </tr>\n",
              "  </tbody>\n",
              "</table>\n",
              "</div>"
            ],
            "text/plain": [
              "               week     center_id  ...   region_code       op_area\n",
              "count  4.565460e+05  4.565460e+05  ...  4.565460e+05  4.565460e+05\n",
              "mean   2.584827e-15  1.873986e-14  ...  8.821585e-15 -3.242897e-14\n",
              "std    1.000001e+00  1.000001e+00  ...  1.000001e+00  1.000001e+00\n",
              "min   -1.776508e+00 -1.568373e+00  ... -1.905445e+00 -2.916211e+00\n",
              "25%   -8.613916e-01 -8.505916e-01  ... -1.281909e+00 -4.429714e-01\n",
              "50%    2.964322e-02 -1.328105e-01  ... -3.483689e-02 -7.656549e-02\n",
              "75%    8.725140e-01  6.067214e-01  ...  1.155550e+00  3.814419e-01\n",
              "max    1.691303e+00  2.259793e+00  ...  2.062511e+00  2.671479e+00\n",
              "\n",
              "[8 rows x 11 columns]"
            ]
          },
          "metadata": {
            "tags": []
          },
          "execution_count": 76
        }
      ]
    },
    {
      "cell_type": "markdown",
      "metadata": {
        "id": "C-e9XESHMuOr",
        "colab_type": "text"
      },
      "source": [
        "###2.9. Creación de dummies"
      ]
    },
    {
      "cell_type": "code",
      "metadata": {
        "id": "qS8UXtfhM01Q",
        "colab_type": "code",
        "outputId": "23526702-38c6-4f9f-8ca1-474f6d77acdd",
        "colab": {
          "base_uri": "https://localhost:8080/",
          "height": 235
        }
      },
      "source": [
        "# Creamos los dummies del conjunto de datos\n",
        "# 1. Convertimos todas las columnas a categóricas.\n",
        "for n, col in dataset.items():\n",
        "    if not pd.api.types.is_numeric_dtype(col) and n != 'num_orders':\n",
        "        # Transforma la variable a tipo category\n",
        "        dataset[n] = col.astype('category')\n",
        "    \n",
        "df = dataset.copy()\n",
        "\n",
        "# 2. Convertir cada columna categórica a numérica.\n",
        "for n,col in df.items():\n",
        "    if pd.api.types.is_categorical_dtype(col):\n",
        "        df[n] = col.cat.codes+1\n",
        "\n",
        "# 3. Creamos los valores dummies.\n",
        "X = pd.get_dummies(dataset.drop(['num_orders'], axis=1), drop_first=True)\n",
        "Y = dataset['num_orders']\n",
        "\n",
        "X.head()"
      ],
      "execution_count": 0,
      "outputs": [
        {
          "output_type": "execute_result",
          "data": {
            "text/html": [
              "<div>\n",
              "<style scoped>\n",
              "    .dataframe tbody tr th:only-of-type {\n",
              "        vertical-align: middle;\n",
              "    }\n",
              "\n",
              "    .dataframe tbody tr th {\n",
              "        vertical-align: top;\n",
              "    }\n",
              "\n",
              "    .dataframe thead th {\n",
              "        text-align: right;\n",
              "    }\n",
              "</style>\n",
              "<table border=\"1\" class=\"dataframe\">\n",
              "  <thead>\n",
              "    <tr style=\"text-align: right;\">\n",
              "      <th></th>\n",
              "      <th>week</th>\n",
              "      <th>center_id</th>\n",
              "      <th>meal_id</th>\n",
              "      <th>checkout_price</th>\n",
              "      <th>base_price</th>\n",
              "      <th>emailer_for_promotion</th>\n",
              "      <th>homepage_featured</th>\n",
              "      <th>city_code</th>\n",
              "      <th>region_code</th>\n",
              "      <th>op_area</th>\n",
              "      <th>center_type_TYPE_B</th>\n",
              "      <th>center_type_TYPE_C</th>\n",
              "      <th>category_Biryani</th>\n",
              "      <th>category_Desert</th>\n",
              "      <th>category_Extras</th>\n",
              "      <th>category_Fish</th>\n",
              "      <th>category_Other Snacks</th>\n",
              "      <th>category_Pasta</th>\n",
              "      <th>category_Pizza</th>\n",
              "      <th>category_Rice Bowl</th>\n",
              "      <th>category_Salad</th>\n",
              "      <th>category_Sandwich</th>\n",
              "      <th>category_Seafood</th>\n",
              "      <th>category_Soup</th>\n",
              "      <th>category_Starters</th>\n",
              "      <th>cuisine_Indian</th>\n",
              "      <th>cuisine_Italian</th>\n",
              "      <th>cuisine_Thai</th>\n",
              "    </tr>\n",
              "  </thead>\n",
              "  <tbody>\n",
              "    <tr>\n",
              "      <th>0</th>\n",
              "      <td>-1.776508</td>\n",
              "      <td>-0.58958</td>\n",
              "      <td>-0.254532</td>\n",
              "      <td>-1.277693</td>\n",
              "      <td>-1.256046</td>\n",
              "      <td>-0.297179</td>\n",
              "      <td>-0.350116</td>\n",
              "      <td>0.686545</td>\n",
              "      <td>-0.034837</td>\n",
              "      <td>-1.908595</td>\n",
              "      <td>0</td>\n",
              "      <td>1</td>\n",
              "      <td>0</td>\n",
              "      <td>0</td>\n",
              "      <td>0</td>\n",
              "      <td>0</td>\n",
              "      <td>0</td>\n",
              "      <td>0</td>\n",
              "      <td>0</td>\n",
              "      <td>0</td>\n",
              "      <td>0</td>\n",
              "      <td>0</td>\n",
              "      <td>0</td>\n",
              "      <td>0</td>\n",
              "      <td>0</td>\n",
              "      <td>0</td>\n",
              "      <td>0</td>\n",
              "      <td>1</td>\n",
              "    </tr>\n",
              "    <tr>\n",
              "      <th>1</th>\n",
              "      <td>-1.752426</td>\n",
              "      <td>-0.58958</td>\n",
              "      <td>-0.254532</td>\n",
              "      <td>-1.284232</td>\n",
              "      <td>-1.256046</td>\n",
              "      <td>-0.297179</td>\n",
              "      <td>-0.350116</td>\n",
              "      <td>0.686545</td>\n",
              "      <td>-0.034837</td>\n",
              "      <td>-1.908595</td>\n",
              "      <td>0</td>\n",
              "      <td>1</td>\n",
              "      <td>0</td>\n",
              "      <td>0</td>\n",
              "      <td>0</td>\n",
              "      <td>0</td>\n",
              "      <td>0</td>\n",
              "      <td>0</td>\n",
              "      <td>0</td>\n",
              "      <td>0</td>\n",
              "      <td>0</td>\n",
              "      <td>0</td>\n",
              "      <td>0</td>\n",
              "      <td>0</td>\n",
              "      <td>0</td>\n",
              "      <td>0</td>\n",
              "      <td>0</td>\n",
              "      <td>1</td>\n",
              "    </tr>\n",
              "    <tr>\n",
              "      <th>2</th>\n",
              "      <td>-1.728344</td>\n",
              "      <td>-0.58958</td>\n",
              "      <td>-0.254532</td>\n",
              "      <td>-1.303259</td>\n",
              "      <td>-1.370347</td>\n",
              "      <td>-0.297179</td>\n",
              "      <td>-0.350116</td>\n",
              "      <td>0.686545</td>\n",
              "      <td>-0.034837</td>\n",
              "      <td>-1.908595</td>\n",
              "      <td>0</td>\n",
              "      <td>1</td>\n",
              "      <td>0</td>\n",
              "      <td>0</td>\n",
              "      <td>0</td>\n",
              "      <td>0</td>\n",
              "      <td>0</td>\n",
              "      <td>0</td>\n",
              "      <td>0</td>\n",
              "      <td>0</td>\n",
              "      <td>0</td>\n",
              "      <td>0</td>\n",
              "      <td>0</td>\n",
              "      <td>0</td>\n",
              "      <td>0</td>\n",
              "      <td>0</td>\n",
              "      <td>0</td>\n",
              "      <td>1</td>\n",
              "    </tr>\n",
              "    <tr>\n",
              "      <th>3</th>\n",
              "      <td>-1.704262</td>\n",
              "      <td>-0.58958</td>\n",
              "      <td>-0.254532</td>\n",
              "      <td>-1.284035</td>\n",
              "      <td>-1.364498</td>\n",
              "      <td>-0.297179</td>\n",
              "      <td>-0.350116</td>\n",
              "      <td>0.686545</td>\n",
              "      <td>-0.034837</td>\n",
              "      <td>-1.908595</td>\n",
              "      <td>0</td>\n",
              "      <td>1</td>\n",
              "      <td>0</td>\n",
              "      <td>0</td>\n",
              "      <td>0</td>\n",
              "      <td>0</td>\n",
              "      <td>0</td>\n",
              "      <td>0</td>\n",
              "      <td>0</td>\n",
              "      <td>0</td>\n",
              "      <td>0</td>\n",
              "      <td>0</td>\n",
              "      <td>0</td>\n",
              "      <td>0</td>\n",
              "      <td>0</td>\n",
              "      <td>0</td>\n",
              "      <td>0</td>\n",
              "      <td>1</td>\n",
              "    </tr>\n",
              "    <tr>\n",
              "      <th>4</th>\n",
              "      <td>-1.680180</td>\n",
              "      <td>-0.58958</td>\n",
              "      <td>-0.254532</td>\n",
              "      <td>-1.214465</td>\n",
              "      <td>-1.285850</td>\n",
              "      <td>-0.297179</td>\n",
              "      <td>-0.350116</td>\n",
              "      <td>0.686545</td>\n",
              "      <td>-0.034837</td>\n",
              "      <td>-1.908595</td>\n",
              "      <td>0</td>\n",
              "      <td>1</td>\n",
              "      <td>0</td>\n",
              "      <td>0</td>\n",
              "      <td>0</td>\n",
              "      <td>0</td>\n",
              "      <td>0</td>\n",
              "      <td>0</td>\n",
              "      <td>0</td>\n",
              "      <td>0</td>\n",
              "      <td>0</td>\n",
              "      <td>0</td>\n",
              "      <td>0</td>\n",
              "      <td>0</td>\n",
              "      <td>0</td>\n",
              "      <td>0</td>\n",
              "      <td>0</td>\n",
              "      <td>1</td>\n",
              "    </tr>\n",
              "  </tbody>\n",
              "</table>\n",
              "</div>"
            ],
            "text/plain": [
              "       week  center_id   meal_id  ...  cuisine_Indian  cuisine_Italian  cuisine_Thai\n",
              "0 -1.776508   -0.58958 -0.254532  ...               0                0             1\n",
              "1 -1.752426   -0.58958 -0.254532  ...               0                0             1\n",
              "2 -1.728344   -0.58958 -0.254532  ...               0                0             1\n",
              "3 -1.704262   -0.58958 -0.254532  ...               0                0             1\n",
              "4 -1.680180   -0.58958 -0.254532  ...               0                0             1\n",
              "\n",
              "[5 rows x 28 columns]"
            ]
          },
          "metadata": {
            "tags": []
          },
          "execution_count": 24
        }
      ]
    },
    {
      "cell_type": "code",
      "metadata": {
        "id": "hcOj8cDThdee",
        "colab_type": "code",
        "outputId": "5029c456-2c88-4f3f-afec-81ca87ebae30",
        "colab": {
          "base_uri": "https://localhost:8080/",
          "height": 119
        }
      },
      "source": [
        "Y.head()"
      ],
      "execution_count": 0,
      "outputs": [
        {
          "output_type": "execute_result",
          "data": {
            "text/plain": [
              "0    177\n",
              "1    323\n",
              "2     96\n",
              "3    163\n",
              "4    215\n",
              "Name: num_orders, dtype: int64"
            ]
          },
          "metadata": {
            "tags": []
          },
          "execution_count": 78
        }
      ]
    },
    {
      "cell_type": "markdown",
      "metadata": {
        "id": "JYtsHWviGbxi",
        "colab_type": "text"
      },
      "source": [
        "### 2.10. Visualización de correlación"
      ]
    },
    {
      "cell_type": "code",
      "metadata": {
        "id": "N6PcOiWzGku8",
        "colab_type": "code",
        "outputId": "6ff666f9-7795-4b59-c49b-53b0da5f37eb",
        "colab": {
          "base_uri": "https://localhost:8080/",
          "height": 673
        }
      },
      "source": [
        "mask = np.ones_like(correlation, dtype=np.bool)\n",
        "mask = np.triu(mask)\n",
        "f, ax = plt.subplots(figsize=(11, 9))\n",
        "cmap = sns.diverging_palette(220, 10, as_cmap=True)\n",
        "sns.heatmap(correlation, mask=mask, cmap=cmap, vmax=3., center=0, square=True, linewidths=.5, cbar_kws={\"shrink\": .5})"
      ],
      "execution_count": 0,
      "outputs": [
        {
          "output_type": "execute_result",
          "data": {
            "text/plain": [
              "<matplotlib.axes._subplots.AxesSubplot at 0x7f5bcf8c7da0>"
            ]
          },
          "metadata": {
            "tags": []
          },
          "execution_count": 25
        },
        {
          "output_type": "display_data",
          "data": {
            "image/png": "[encoded data removed]",
            "text/plain": [
              "<Figure size 792x648 with 2 Axes>"
            ]
          },
          "metadata": {
            "tags": []
          }
        }
      ]
    },
    {
      "cell_type": "markdown",
      "metadata": {
        "id": "K9WZOqSm9TC_",
        "colab_type": "text"
      },
      "source": [
        "##4. Métricas de evaluación"
      ]
    },
    {
      "cell_type": "markdown",
      "metadata": {
        "id": "iFvkgwUa9YMe",
        "colab_type": "text"
      },
      "source": [
        "##5. Visualización e Interpretación de resultados"
      ]
    },
    {
      "cell_type": "code",
      "metadata": {
        "id": "HgQFkny-WTzc",
        "colab_type": "code",
        "outputId": "996dae99-1d36-4ad6-8494-ab3363379277",
        "colab": {
          "base_uri": "https://localhost:8080/",
          "height": 940
        }
      },
      "source": [
        "X.corr()"
      ],
      "execution_count": 0,
      "outputs": [
        {
          "output_type": "execute_result",
          "data": {
            "text/html": [
              "<div>\n",
              "<style scoped>\n",
              "    .dataframe tbody tr th:only-of-type {\n",
              "        vertical-align: middle;\n",
              "    }\n",
              "\n",
              "    .dataframe tbody tr th {\n",
              "        vertical-align: top;\n",
              "    }\n",
              "\n",
              "    .dataframe thead th {\n",
              "        text-align: right;\n",
              "    }\n",
              "</style>\n",
              "<table border=\"1\" class=\"dataframe\">\n",
              "  <thead>\n",
              "    <tr style=\"text-align: right;\">\n",
              "      <th></th>\n",
              "      <th>week</th>\n",
              "      <th>center_id</th>\n",
              "      <th>meal_id</th>\n",
              "      <th>checkout_price</th>\n",
              "      <th>emailer_for_promotion</th>\n",
              "      <th>homepage_featured</th>\n",
              "      <th>city_code</th>\n",
              "      <th>region_code</th>\n",
              "      <th>op_area</th>\n",
              "      <th>center_type_TYPE_B</th>\n",
              "      <th>center_type_TYPE_C</th>\n",
              "      <th>category_Biryani</th>\n",
              "      <th>category_Desert</th>\n",
              "      <th>category_Extras</th>\n",
              "      <th>category_Fish</th>\n",
              "      <th>category_Other Snacks</th>\n",
              "      <th>category_Pasta</th>\n",
              "      <th>category_Pizza</th>\n",
              "      <th>category_Rice Bowl</th>\n",
              "      <th>category_Salad</th>\n",
              "      <th>category_Sandwich</th>\n",
              "      <th>category_Seafood</th>\n",
              "      <th>category_Soup</th>\n",
              "      <th>category_Starters</th>\n",
              "      <th>cuisine_Indian</th>\n",
              "      <th>cuisine_Italian</th>\n",
              "      <th>cuisine_Thai</th>\n",
              "    </tr>\n",
              "  </thead>\n",
              "  <tbody>\n",
              "    <tr>\n",
              "      <th>week</th>\n",
              "      <td>1.000000</td>\n",
              "      <td>-0.003456</td>\n",
              "      <td>0.019818</td>\n",
              "      <td>0.026573</td>\n",
              "      <td>-0.000817</td>\n",
              "      <td>-0.008243</td>\n",
              "      <td>0.000403</td>\n",
              "      <td>0.004599</td>\n",
              "      <td>0.001556</td>\n",
              "      <td>0.009278</td>\n",
              "      <td>-0.004501</td>\n",
              "      <td>-0.008558</td>\n",
              "      <td>-0.004501</td>\n",
              "      <td>-0.004190</td>\n",
              "      <td>0.114409</td>\n",
              "      <td>-0.000550</td>\n",
              "      <td>-0.015445</td>\n",
              "      <td>-0.010520</td>\n",
              "      <td>-0.011051</td>\n",
              "      <td>0.053558</td>\n",
              "      <td>-0.010445</td>\n",
              "      <td>-0.008292</td>\n",
              "      <td>-0.000995</td>\n",
              "      <td>-0.014200</td>\n",
              "      <td>-0.014755</td>\n",
              "      <td>0.008291</td>\n",
              "      <td>-0.015935</td>\n",
              "    </tr>\n",
              "    <tr>\n",
              "      <th>center_id</th>\n",
              "      <td>-0.003456</td>\n",
              "      <td>1.000000</td>\n",
              "      <td>0.009895</td>\n",
              "      <td>0.001344</td>\n",
              "      <td>0.013671</td>\n",
              "      <td>-0.005032</td>\n",
              "      <td>0.061077</td>\n",
              "      <td>-0.003426</td>\n",
              "      <td>-0.111866</td>\n",
              "      <td>-0.091956</td>\n",
              "      <td>-0.061088</td>\n",
              "      <td>-0.002604</td>\n",
              "      <td>0.004250</td>\n",
              "      <td>-0.051971</td>\n",
              "      <td>-0.003596</td>\n",
              "      <td>0.004672</td>\n",
              "      <td>0.004989</td>\n",
              "      <td>0.007296</td>\n",
              "      <td>0.007127</td>\n",
              "      <td>0.006638</td>\n",
              "      <td>0.007238</td>\n",
              "      <td>0.001414</td>\n",
              "      <td>-0.045336</td>\n",
              "      <td>0.000265</td>\n",
              "      <td>0.007043</td>\n",
              "      <td>0.014692</td>\n",
              "      <td>-0.029823</td>\n",
              "    </tr>\n",
              "    <tr>\n",
              "      <th>meal_id</th>\n",
              "      <td>0.019818</td>\n",
              "      <td>0.009895</td>\n",
              "      <td>1.000000</td>\n",
              "      <td>0.010750</td>\n",
              "      <td>0.013395</td>\n",
              "      <td>0.016349</td>\n",
              "      <td>-0.003197</td>\n",
              "      <td>-0.001662</td>\n",
              "      <td>-0.001548</td>\n",
              "      <td>0.004091</td>\n",
              "      <td>-0.008087</td>\n",
              "      <td>-0.156270</td>\n",
              "      <td>0.035379</td>\n",
              "      <td>-0.185007</td>\n",
              "      <td>0.033455</td>\n",
              "      <td>0.154998</td>\n",
              "      <td>-0.075666</td>\n",
              "      <td>0.005602</td>\n",
              "      <td>-0.162006</td>\n",
              "      <td>0.260414</td>\n",
              "      <td>0.080985</td>\n",
              "      <td>0.084959</td>\n",
              "      <td>-0.032146</td>\n",
              "      <td>0.159468</td>\n",
              "      <td>-0.156293</td>\n",
              "      <td>0.096025</td>\n",
              "      <td>0.125013</td>\n",
              "    </tr>\n",
              "    <tr>\n",
              "      <th>checkout_price</th>\n",
              "      <td>0.026573</td>\n",
              "      <td>0.001344</td>\n",
              "      <td>0.010750</td>\n",
              "      <td>1.000000</td>\n",
              "      <td>0.004835</td>\n",
              "      <td>-0.057171</td>\n",
              "      <td>-0.004806</td>\n",
              "      <td>-0.003649</td>\n",
              "      <td>0.021574</td>\n",
              "      <td>0.021737</td>\n",
              "      <td>-0.026381</td>\n",
              "      <td>0.168013</td>\n",
              "      <td>0.180387</td>\n",
              "      <td>-0.181958</td>\n",
              "      <td>0.243738</td>\n",
              "      <td>-0.127075</td>\n",
              "      <td>0.105383</td>\n",
              "      <td>0.460531</td>\n",
              "      <td>-0.027003</td>\n",
              "      <td>-0.069730</td>\n",
              "      <td>-0.077478</td>\n",
              "      <td>0.455558</td>\n",
              "      <td>-0.120755</td>\n",
              "      <td>-0.093483</td>\n",
              "      <td>0.031926</td>\n",
              "      <td>-0.186963</td>\n",
              "      <td>-0.459611</td>\n",
              "    </tr>\n",
              "    <tr>\n",
              "      <th>emailer_for_promotion</th>\n",
              "      <td>-0.000817</td>\n",
              "      <td>0.013671</td>\n",
              "      <td>0.013395</td>\n",
              "      <td>0.004835</td>\n",
              "      <td>1.000000</td>\n",
              "      <td>0.390508</td>\n",
              "      <td>-0.005231</td>\n",
              "      <td>-0.007461</td>\n",
              "      <td>-0.019477</td>\n",
              "      <td>-0.005056</td>\n",
              "      <td>0.008608</td>\n",
              "      <td>-0.064623</td>\n",
              "      <td>-0.018762</td>\n",
              "      <td>-0.051998</td>\n",
              "      <td>-0.037237</td>\n",
              "      <td>-0.056589</td>\n",
              "      <td>0.014170</td>\n",
              "      <td>0.206923</td>\n",
              "      <td>0.011494</td>\n",
              "      <td>-0.007735</td>\n",
              "      <td>0.049500</td>\n",
              "      <td>0.094463</td>\n",
              "      <td>-0.050218</td>\n",
              "      <td>-0.034304</td>\n",
              "      <td>-0.052218</td>\n",
              "      <td>0.011155</td>\n",
              "      <td>-0.117782</td>\n",
              "    </tr>\n",
              "    <tr>\n",
              "      <th>homepage_featured</th>\n",
              "      <td>-0.008243</td>\n",
              "      <td>-0.005032</td>\n",
              "      <td>0.016349</td>\n",
              "      <td>-0.057171</td>\n",
              "      <td>0.390508</td>\n",
              "      <td>1.000000</td>\n",
              "      <td>0.008643</td>\n",
              "      <td>0.003606</td>\n",
              "      <td>0.041487</td>\n",
              "      <td>0.001884</td>\n",
              "      <td>-0.030595</td>\n",
              "      <td>-0.074106</td>\n",
              "      <td>0.004821</td>\n",
              "      <td>-0.050422</td>\n",
              "      <td>-0.033492</td>\n",
              "      <td>0.045821</td>\n",
              "      <td>0.022976</td>\n",
              "      <td>0.107393</td>\n",
              "      <td>-0.018657</td>\n",
              "      <td>-0.039196</td>\n",
              "      <td>0.004288</td>\n",
              "      <td>0.025728</td>\n",
              "      <td>-0.038731</td>\n",
              "      <td>-0.030737</td>\n",
              "      <td>-0.059394</td>\n",
              "      <td>-0.049730</td>\n",
              "      <td>0.040791</td>\n",
              "    </tr>\n",
              "    <tr>\n",
              "      <th>city_code</th>\n",
              "      <td>0.000403</td>\n",
              "      <td>0.061077</td>\n",
              "      <td>-0.003197</td>\n",
              "      <td>-0.004806</td>\n",
              "      <td>-0.005231</td>\n",
              "      <td>0.008643</td>\n",
              "      <td>1.000000</td>\n",
              "      <td>0.042686</td>\n",
              "      <td>0.131477</td>\n",
              "      <td>0.004381</td>\n",
              "      <td>0.088260</td>\n",
              "      <td>-0.006409</td>\n",
              "      <td>-0.005043</td>\n",
              "      <td>0.025785</td>\n",
              "      <td>-0.000484</td>\n",
              "      <td>-0.001230</td>\n",
              "      <td>-0.005636</td>\n",
              "      <td>-0.003940</td>\n",
              "      <td>-0.003895</td>\n",
              "      <td>-0.003912</td>\n",
              "      <td>-0.003723</td>\n",
              "      <td>0.002864</td>\n",
              "      <td>0.038829</td>\n",
              "      <td>-0.004886</td>\n",
              "      <td>-0.008285</td>\n",
              "      <td>-0.009569</td>\n",
              "      <td>0.020252</td>\n",
              "    </tr>\n",
              "    <tr>\n",
              "      <th>region_code</th>\n",
              "      <td>0.004599</td>\n",
              "      <td>-0.003426</td>\n",
              "      <td>-0.001662</td>\n",
              "      <td>-0.003649</td>\n",
              "      <td>-0.007461</td>\n",
              "      <td>0.003606</td>\n",
              "      <td>0.042686</td>\n",
              "      <td>1.000000</td>\n",
              "      <td>0.023328</td>\n",
              "      <td>-0.055865</td>\n",
              "      <td>0.017814</td>\n",
              "      <td>0.001080</td>\n",
              "      <td>-0.005579</td>\n",
              "      <td>0.018054</td>\n",
              "      <td>-0.014187</td>\n",
              "      <td>0.003160</td>\n",
              "      <td>-0.005467</td>\n",
              "      <td>-0.003024</td>\n",
              "      <td>-0.002913</td>\n",
              "      <td>-0.002485</td>\n",
              "      <td>-0.003063</td>\n",
              "      <td>-0.000111</td>\n",
              "      <td>0.033747</td>\n",
              "      <td>-0.003075</td>\n",
              "      <td>-0.004475</td>\n",
              "      <td>-0.007721</td>\n",
              "      <td>0.021114</td>\n",
              "    </tr>\n",
              "    <tr>\n",
              "      <th>op_area</th>\n",
              "      <td>0.001556</td>\n",
              "      <td>-0.111866</td>\n",
              "      <td>-0.001548</td>\n",
              "      <td>0.021574</td>\n",
              "      <td>-0.019477</td>\n",
              "      <td>0.041487</td>\n",
              "      <td>0.131477</td>\n",
              "      <td>0.023328</td>\n",
              "      <td>1.000000</td>\n",
              "      <td>0.358995</td>\n",
              "      <td>-0.392960</td>\n",
              "      <td>0.041362</td>\n",
              "      <td>-0.000534</td>\n",
              "      <td>0.034732</td>\n",
              "      <td>0.038476</td>\n",
              "      <td>0.005215</td>\n",
              "      <td>0.007302</td>\n",
              "      <td>-0.023328</td>\n",
              "      <td>-0.024747</td>\n",
              "      <td>-0.019907</td>\n",
              "      <td>-0.022846</td>\n",
              "      <td>0.017974</td>\n",
              "      <td>0.062501</td>\n",
              "      <td>0.008053</td>\n",
              "      <td>0.006199</td>\n",
              "      <td>-0.034671</td>\n",
              "      <td>0.031985</td>\n",
              "    </tr>\n",
              "    <tr>\n",
              "      <th>center_type_TYPE_B</th>\n",
              "      <td>0.009278</td>\n",
              "      <td>-0.091956</td>\n",
              "      <td>0.004091</td>\n",
              "      <td>0.021737</td>\n",
              "      <td>-0.005056</td>\n",
              "      <td>0.001884</td>\n",
              "      <td>0.004381</td>\n",
              "      <td>-0.055865</td>\n",
              "      <td>0.358995</td>\n",
              "      <td>1.000000</td>\n",
              "      <td>-0.269096</td>\n",
              "      <td>0.027603</td>\n",
              "      <td>-0.001264</td>\n",
              "      <td>0.001036</td>\n",
              "      <td>0.028302</td>\n",
              "      <td>0.002809</td>\n",
              "      <td>0.004208</td>\n",
              "      <td>-0.008417</td>\n",
              "      <td>-0.009015</td>\n",
              "      <td>-0.006949</td>\n",
              "      <td>-0.008848</td>\n",
              "      <td>0.012089</td>\n",
              "      <td>0.008281</td>\n",
              "      <td>0.005239</td>\n",
              "      <td>0.004071</td>\n",
              "      <td>-0.011982</td>\n",
              "      <td>0.002360</td>\n",
              "    </tr>\n",
              "    <tr>\n",
              "      <th>center_type_TYPE_C</th>\n",
              "      <td>-0.004501</td>\n",
              "      <td>-0.061088</td>\n",
              "      <td>-0.008087</td>\n",
              "      <td>-0.026381</td>\n",
              "      <td>0.008608</td>\n",
              "      <td>-0.030595</td>\n",
              "      <td>0.088260</td>\n",
              "      <td>0.017814</td>\n",
              "      <td>-0.392960</td>\n",
              "      <td>-0.269096</td>\n",
              "      <td>1.000000</td>\n",
              "      <td>-0.040941</td>\n",
              "      <td>0.003694</td>\n",
              "      <td>-0.008543</td>\n",
              "      <td>-0.043386</td>\n",
              "      <td>-0.012339</td>\n",
              "      <td>-0.006472</td>\n",
              "      <td>0.018584</td>\n",
              "      <td>0.019667</td>\n",
              "      <td>0.015704</td>\n",
              "      <td>0.018619</td>\n",
              "      <td>-0.021922</td>\n",
              "      <td>-0.018691</td>\n",
              "      <td>-0.015329</td>\n",
              "      <td>-0.005552</td>\n",
              "      <td>0.027388</td>\n",
              "      <td>-0.016323</td>\n",
              "    </tr>\n",
              "    <tr>\n",
              "      <th>category_Biryani</th>\n",
              "      <td>-0.008558</td>\n",
              "      <td>-0.002604</td>\n",
              "      <td>-0.156270</td>\n",
              "      <td>0.168013</td>\n",
              "      <td>-0.064623</td>\n",
              "      <td>-0.074106</td>\n",
              "      <td>-0.006409</td>\n",
              "      <td>0.001080</td>\n",
              "      <td>0.041362</td>\n",
              "      <td>0.027603</td>\n",
              "      <td>-0.040941</td>\n",
              "      <td>1.000000</td>\n",
              "      <td>-0.056940</td>\n",
              "      <td>-0.038049</td>\n",
              "      <td>-0.032851</td>\n",
              "      <td>-0.057028</td>\n",
              "      <td>-0.055260</td>\n",
              "      <td>-0.060835</td>\n",
              "      <td>-0.061100</td>\n",
              "      <td>-0.056173</td>\n",
              "      <td>-0.060987</td>\n",
              "      <td>-0.054429</td>\n",
              "      <td>-0.036747</td>\n",
              "      <td>-0.057609</td>\n",
              "      <td>0.380034</td>\n",
              "      <td>-0.131997</td>\n",
              "      <td>-0.128540</td>\n",
              "    </tr>\n",
              "    <tr>\n",
              "      <th>category_Desert</th>\n",
              "      <td>-0.004501</td>\n",
              "      <td>0.004250</td>\n",
              "      <td>0.035379</td>\n",
              "      <td>0.180387</td>\n",
              "      <td>-0.018762</td>\n",
              "      <td>0.004821</td>\n",
              "      <td>-0.005043</td>\n",
              "      <td>-0.005579</td>\n",
              "      <td>-0.000534</td>\n",
              "      <td>-0.001264</td>\n",
              "      <td>0.003694</td>\n",
              "      <td>-0.056940</td>\n",
              "      <td>1.000000</td>\n",
              "      <td>-0.045816</td>\n",
              "      <td>-0.039557</td>\n",
              "      <td>-0.068670</td>\n",
              "      <td>-0.066541</td>\n",
              "      <td>-0.073254</td>\n",
              "      <td>-0.073573</td>\n",
              "      <td>-0.067640</td>\n",
              "      <td>-0.073436</td>\n",
              "      <td>-0.065540</td>\n",
              "      <td>-0.044248</td>\n",
              "      <td>-0.069369</td>\n",
              "      <td>0.457612</td>\n",
              "      <td>-0.158943</td>\n",
              "      <td>-0.154780</td>\n",
              "    </tr>\n",
              "    <tr>\n",
              "      <th>category_Extras</th>\n",
              "      <td>-0.004190</td>\n",
              "      <td>-0.051971</td>\n",
              "      <td>-0.185007</td>\n",
              "      <td>-0.181958</td>\n",
              "      <td>-0.051998</td>\n",
              "      <td>-0.050422</td>\n",
              "      <td>0.025785</td>\n",
              "      <td>0.018054</td>\n",
              "      <td>0.034732</td>\n",
              "      <td>0.001036</td>\n",
              "      <td>-0.008543</td>\n",
              "      <td>-0.038049</td>\n",
              "      <td>-0.045816</td>\n",
              "      <td>1.000000</td>\n",
              "      <td>-0.026433</td>\n",
              "      <td>-0.045887</td>\n",
              "      <td>-0.044464</td>\n",
              "      <td>-0.048950</td>\n",
              "      <td>-0.049163</td>\n",
              "      <td>-0.045199</td>\n",
              "      <td>-0.049072</td>\n",
              "      <td>-0.043795</td>\n",
              "      <td>-0.029567</td>\n",
              "      <td>-0.046354</td>\n",
              "      <td>-0.100119</td>\n",
              "      <td>-0.106209</td>\n",
              "      <td>0.296006</td>\n",
              "    </tr>\n",
              "    <tr>\n",
              "      <th>category_Fish</th>\n",
              "      <td>0.114409</td>\n",
              "      <td>-0.003596</td>\n",
              "      <td>0.033455</td>\n",
              "      <td>0.243738</td>\n",
              "      <td>-0.037237</td>\n",
              "      <td>-0.033492</td>\n",
              "      <td>-0.000484</td>\n",
              "      <td>-0.014187</td>\n",
              "      <td>0.038476</td>\n",
              "      <td>0.028302</td>\n",
              "      <td>-0.043386</td>\n",
              "      <td>-0.032851</td>\n",
              "      <td>-0.039557</td>\n",
              "      <td>-0.026433</td>\n",
              "      <td>1.000000</td>\n",
              "      <td>-0.039619</td>\n",
              "      <td>-0.038390</td>\n",
              "      <td>-0.042263</td>\n",
              "      <td>-0.042447</td>\n",
              "      <td>-0.039024</td>\n",
              "      <td>-0.042369</td>\n",
              "      <td>-0.037813</td>\n",
              "      <td>-0.025529</td>\n",
              "      <td>-0.040022</td>\n",
              "      <td>-0.086443</td>\n",
              "      <td>-0.091701</td>\n",
              "      <td>-0.089299</td>\n",
              "    </tr>\n",
              "    <tr>\n",
              "      <th>category_Other Snacks</th>\n",
              "      <td>-0.000550</td>\n",
              "      <td>0.004672</td>\n",
              "      <td>0.154998</td>\n",
              "      <td>-0.127075</td>\n",
              "      <td>-0.056589</td>\n",
              "      <td>0.045821</td>\n",
              "      <td>-0.001230</td>\n",
              "      <td>0.003160</td>\n",
              "      <td>0.005215</td>\n",
              "      <td>0.002809</td>\n",
              "      <td>-0.012339</td>\n",
              "      <td>-0.057028</td>\n",
              "      <td>-0.068670</td>\n",
              "      <td>-0.045887</td>\n",
              "      <td>-0.039619</td>\n",
              "      <td>1.000000</td>\n",
              "      <td>-0.066644</td>\n",
              "      <td>-0.073367</td>\n",
              "      <td>-0.073687</td>\n",
              "      <td>-0.067745</td>\n",
              "      <td>-0.073550</td>\n",
              "      <td>-0.065641</td>\n",
              "      <td>-0.044316</td>\n",
              "      <td>-0.069477</td>\n",
              "      <td>-0.150062</td>\n",
              "      <td>-0.159189</td>\n",
              "      <td>0.443662</td>\n",
              "    </tr>\n",
              "    <tr>\n",
              "      <th>category_Pasta</th>\n",
              "      <td>-0.015445</td>\n",
              "      <td>0.004989</td>\n",
              "      <td>-0.075666</td>\n",
              "      <td>0.105383</td>\n",
              "      <td>0.014170</td>\n",
              "      <td>0.022976</td>\n",
              "      <td>-0.005636</td>\n",
              "      <td>-0.005467</td>\n",
              "      <td>0.007302</td>\n",
              "      <td>0.004208</td>\n",
              "      <td>-0.006472</td>\n",
              "      <td>-0.055260</td>\n",
              "      <td>-0.066541</td>\n",
              "      <td>-0.044464</td>\n",
              "      <td>-0.038390</td>\n",
              "      <td>-0.066644</td>\n",
              "      <td>1.000000</td>\n",
              "      <td>-0.071092</td>\n",
              "      <td>-0.071402</td>\n",
              "      <td>-0.065644</td>\n",
              "      <td>-0.071269</td>\n",
              "      <td>-0.063606</td>\n",
              "      <td>-0.042942</td>\n",
              "      <td>-0.067322</td>\n",
              "      <td>-0.145408</td>\n",
              "      <td>0.418645</td>\n",
              "      <td>-0.150213</td>\n",
              "    </tr>\n",
              "    <tr>\n",
              "      <th>category_Pizza</th>\n",
              "      <td>-0.010520</td>\n",
              "      <td>0.007296</td>\n",
              "      <td>0.005602</td>\n",
              "      <td>0.460531</td>\n",
              "      <td>0.206923</td>\n",
              "      <td>0.107393</td>\n",
              "      <td>-0.003940</td>\n",
              "      <td>-0.003024</td>\n",
              "      <td>-0.023328</td>\n",
              "      <td>-0.008417</td>\n",
              "      <td>0.018584</td>\n",
              "      <td>-0.060835</td>\n",
              "      <td>-0.073254</td>\n",
              "      <td>-0.048950</td>\n",
              "      <td>-0.042263</td>\n",
              "      <td>-0.073367</td>\n",
              "      <td>-0.071092</td>\n",
              "      <td>1.000000</td>\n",
              "      <td>-0.078606</td>\n",
              "      <td>-0.072267</td>\n",
              "      <td>-0.078460</td>\n",
              "      <td>-0.070023</td>\n",
              "      <td>-0.047275</td>\n",
              "      <td>-0.074115</td>\n",
              "      <td>-0.160079</td>\n",
              "      <td>-0.169815</td>\n",
              "      <td>-0.165368</td>\n",
              "    </tr>\n",
              "    <tr>\n",
              "      <th>category_Rice Bowl</th>\n",
              "      <td>-0.011051</td>\n",
              "      <td>0.007127</td>\n",
              "      <td>-0.162006</td>\n",
              "      <td>-0.027003</td>\n",
              "      <td>0.011494</td>\n",
              "      <td>-0.018657</td>\n",
              "      <td>-0.003895</td>\n",
              "      <td>-0.002913</td>\n",
              "      <td>-0.024747</td>\n",
              "      <td>-0.009015</td>\n",
              "      <td>0.019667</td>\n",
              "      <td>-0.061100</td>\n",
              "      <td>-0.073573</td>\n",
              "      <td>-0.049163</td>\n",
              "      <td>-0.042447</td>\n",
              "      <td>-0.073687</td>\n",
              "      <td>-0.071402</td>\n",
              "      <td>-0.078606</td>\n",
              "      <td>1.000000</td>\n",
              "      <td>-0.072582</td>\n",
              "      <td>-0.078801</td>\n",
              "      <td>-0.070328</td>\n",
              "      <td>-0.047481</td>\n",
              "      <td>-0.074437</td>\n",
              "      <td>0.491044</td>\n",
              "      <td>-0.170555</td>\n",
              "      <td>-0.166088</td>\n",
              "    </tr>\n",
              "    <tr>\n",
              "      <th>category_Salad</th>\n",
              "      <td>0.053558</td>\n",
              "      <td>0.006638</td>\n",
              "      <td>0.260414</td>\n",
              "      <td>-0.069730</td>\n",
              "      <td>-0.007735</td>\n",
              "      <td>-0.039196</td>\n",
              "      <td>-0.003912</td>\n",
              "      <td>-0.002485</td>\n",
              "      <td>-0.019907</td>\n",
              "      <td>-0.006949</td>\n",
              "      <td>0.015704</td>\n",
              "      <td>-0.056173</td>\n",
              "      <td>-0.067640</td>\n",
              "      <td>-0.045199</td>\n",
              "      <td>-0.039024</td>\n",
              "      <td>-0.067745</td>\n",
              "      <td>-0.065644</td>\n",
              "      <td>-0.072267</td>\n",
              "      <td>-0.072582</td>\n",
              "      <td>1.000000</td>\n",
              "      <td>-0.072447</td>\n",
              "      <td>-0.064657</td>\n",
              "      <td>-0.043652</td>\n",
              "      <td>-0.068435</td>\n",
              "      <td>-0.147811</td>\n",
              "      <td>0.425562</td>\n",
              "      <td>-0.152695</td>\n",
              "    </tr>\n",
              "    <tr>\n",
              "      <th>category_Sandwich</th>\n",
              "      <td>-0.010445</td>\n",
              "      <td>0.007238</td>\n",
              "      <td>0.080985</td>\n",
              "      <td>-0.077478</td>\n",
              "      <td>0.049500</td>\n",
              "      <td>0.004288</td>\n",
              "      <td>-0.003723</td>\n",
              "      <td>-0.003063</td>\n",
              "      <td>-0.022846</td>\n",
              "      <td>-0.008848</td>\n",
              "      <td>0.018619</td>\n",
              "      <td>-0.060987</td>\n",
              "      <td>-0.073436</td>\n",
              "      <td>-0.049072</td>\n",
              "      <td>-0.042369</td>\n",
              "      <td>-0.073550</td>\n",
              "      <td>-0.071269</td>\n",
              "      <td>-0.078460</td>\n",
              "      <td>-0.078801</td>\n",
              "      <td>-0.072447</td>\n",
              "      <td>1.000000</td>\n",
              "      <td>-0.070197</td>\n",
              "      <td>-0.047392</td>\n",
              "      <td>-0.074299</td>\n",
              "      <td>-0.160477</td>\n",
              "      <td>0.462029</td>\n",
              "      <td>-0.165779</td>\n",
              "    </tr>\n",
              "    <tr>\n",
              "      <th>category_Seafood</th>\n",
              "      <td>-0.008292</td>\n",
              "      <td>0.001414</td>\n",
              "      <td>0.084959</td>\n",
              "      <td>0.455558</td>\n",
              "      <td>0.094463</td>\n",
              "      <td>0.025728</td>\n",
              "      <td>0.002864</td>\n",
              "      <td>-0.000111</td>\n",
              "      <td>0.017974</td>\n",
              "      <td>0.012089</td>\n",
              "      <td>-0.021922</td>\n",
              "      <td>-0.054429</td>\n",
              "      <td>-0.065540</td>\n",
              "      <td>-0.043795</td>\n",
              "      <td>-0.037813</td>\n",
              "      <td>-0.065641</td>\n",
              "      <td>-0.063606</td>\n",
              "      <td>-0.070023</td>\n",
              "      <td>-0.070328</td>\n",
              "      <td>-0.064657</td>\n",
              "      <td>-0.070197</td>\n",
              "      <td>1.000000</td>\n",
              "      <td>-0.042296</td>\n",
              "      <td>-0.066310</td>\n",
              "      <td>-0.143221</td>\n",
              "      <td>-0.151933</td>\n",
              "      <td>-0.147954</td>\n",
              "    </tr>\n",
              "    <tr>\n",
              "      <th>category_Soup</th>\n",
              "      <td>-0.000995</td>\n",
              "      <td>-0.045336</td>\n",
              "      <td>-0.032146</td>\n",
              "      <td>-0.120755</td>\n",
              "      <td>-0.050218</td>\n",
              "      <td>-0.038731</td>\n",
              "      <td>0.038829</td>\n",
              "      <td>0.033747</td>\n",
              "      <td>0.062501</td>\n",
              "      <td>0.008281</td>\n",
              "      <td>-0.018691</td>\n",
              "      <td>-0.036747</td>\n",
              "      <td>-0.044248</td>\n",
              "      <td>-0.029567</td>\n",
              "      <td>-0.025529</td>\n",
              "      <td>-0.044316</td>\n",
              "      <td>-0.042942</td>\n",
              "      <td>-0.047275</td>\n",
              "      <td>-0.047481</td>\n",
              "      <td>-0.043652</td>\n",
              "      <td>-0.047392</td>\n",
              "      <td>-0.042296</td>\n",
              "      <td>1.000000</td>\n",
              "      <td>-0.044768</td>\n",
              "      <td>-0.096693</td>\n",
              "      <td>-0.102574</td>\n",
              "      <td>0.285876</td>\n",
              "    </tr>\n",
              "    <tr>\n",
              "      <th>category_Starters</th>\n",
              "      <td>-0.014200</td>\n",
              "      <td>0.000265</td>\n",
              "      <td>0.159468</td>\n",
              "      <td>-0.093483</td>\n",
              "      <td>-0.034304</td>\n",
              "      <td>-0.030737</td>\n",
              "      <td>-0.004886</td>\n",
              "      <td>-0.003075</td>\n",
              "      <td>0.008053</td>\n",
              "      <td>0.005239</td>\n",
              "      <td>-0.015329</td>\n",
              "      <td>-0.057609</td>\n",
              "      <td>-0.069369</td>\n",
              "      <td>-0.046354</td>\n",
              "      <td>-0.040022</td>\n",
              "      <td>-0.069477</td>\n",
              "      <td>-0.067322</td>\n",
              "      <td>-0.074115</td>\n",
              "      <td>-0.074437</td>\n",
              "      <td>-0.068435</td>\n",
              "      <td>-0.074299</td>\n",
              "      <td>-0.066310</td>\n",
              "      <td>-0.044768</td>\n",
              "      <td>1.000000</td>\n",
              "      <td>-0.151590</td>\n",
              "      <td>-0.160810</td>\n",
              "      <td>0.448180</td>\n",
              "    </tr>\n",
              "    <tr>\n",
              "      <th>cuisine_Indian</th>\n",
              "      <td>-0.014755</td>\n",
              "      <td>0.007043</td>\n",
              "      <td>-0.156293</td>\n",
              "      <td>0.031926</td>\n",
              "      <td>-0.052218</td>\n",
              "      <td>-0.059394</td>\n",
              "      <td>-0.008285</td>\n",
              "      <td>-0.004475</td>\n",
              "      <td>0.006199</td>\n",
              "      <td>0.004071</td>\n",
              "      <td>-0.005552</td>\n",
              "      <td>0.380034</td>\n",
              "      <td>0.457612</td>\n",
              "      <td>-0.100119</td>\n",
              "      <td>-0.086443</td>\n",
              "      <td>-0.150062</td>\n",
              "      <td>-0.145408</td>\n",
              "      <td>-0.160079</td>\n",
              "      <td>0.491044</td>\n",
              "      <td>-0.147811</td>\n",
              "      <td>-0.160477</td>\n",
              "      <td>-0.143221</td>\n",
              "      <td>-0.096693</td>\n",
              "      <td>-0.151590</td>\n",
              "      <td>1.000000</td>\n",
              "      <td>-0.347331</td>\n",
              "      <td>-0.338234</td>\n",
              "    </tr>\n",
              "    <tr>\n",
              "      <th>cuisine_Italian</th>\n",
              "      <td>0.008291</td>\n",
              "      <td>0.014692</td>\n",
              "      <td>0.096025</td>\n",
              "      <td>-0.186963</td>\n",
              "      <td>0.011155</td>\n",
              "      <td>-0.049730</td>\n",
              "      <td>-0.009569</td>\n",
              "      <td>-0.007721</td>\n",
              "      <td>-0.034671</td>\n",
              "      <td>-0.011982</td>\n",
              "      <td>0.027388</td>\n",
              "      <td>-0.131997</td>\n",
              "      <td>-0.158943</td>\n",
              "      <td>-0.106209</td>\n",
              "      <td>-0.091701</td>\n",
              "      <td>-0.159189</td>\n",
              "      <td>0.418645</td>\n",
              "      <td>-0.169815</td>\n",
              "      <td>-0.170555</td>\n",
              "      <td>0.425562</td>\n",
              "      <td>0.462029</td>\n",
              "      <td>-0.151933</td>\n",
              "      <td>-0.102574</td>\n",
              "      <td>-0.160810</td>\n",
              "      <td>-0.347331</td>\n",
              "      <td>1.000000</td>\n",
              "      <td>-0.358807</td>\n",
              "    </tr>\n",
              "    <tr>\n",
              "      <th>cuisine_Thai</th>\n",
              "      <td>-0.015935</td>\n",
              "      <td>-0.029823</td>\n",
              "      <td>0.125013</td>\n",
              "      <td>-0.459611</td>\n",
              "      <td>-0.117782</td>\n",
              "      <td>0.040791</td>\n",
              "      <td>0.020252</td>\n",
              "      <td>0.021114</td>\n",
              "      <td>0.031985</td>\n",
              "      <td>0.002360</td>\n",
              "      <td>-0.016323</td>\n",
              "      <td>-0.128540</td>\n",
              "      <td>-0.154780</td>\n",
              "      <td>0.296006</td>\n",
              "      <td>-0.089299</td>\n",
              "      <td>0.443662</td>\n",
              "      <td>-0.150213</td>\n",
              "      <td>-0.165368</td>\n",
              "      <td>-0.166088</td>\n",
              "      <td>-0.152695</td>\n",
              "      <td>-0.165779</td>\n",
              "      <td>-0.147954</td>\n",
              "      <td>0.285876</td>\n",
              "      <td>0.448180</td>\n",
              "      <td>-0.338234</td>\n",
              "      <td>-0.358807</td>\n",
              "      <td>1.000000</td>\n",
              "    </tr>\n",
              "  </tbody>\n",
              "</table>\n",
              "</div>"
            ],
            "text/plain": [
              "                           week  center_id  ...  cuisine_Italian  cuisine_Thai\n",
              "week                   1.000000  -0.003456  ...         0.008291     -0.015935\n",
              "center_id             -0.003456   1.000000  ...         0.014692     -0.029823\n",
              "meal_id                0.019818   0.009895  ...         0.096025      0.125013\n",
              "checkout_price         0.026573   0.001344  ...        -0.186963     -0.459611\n",
              "emailer_for_promotion -0.000817   0.013671  ...         0.011155     -0.117782\n",
              "homepage_featured     -0.008243  -0.005032  ...        -0.049730      0.040791\n",
              "city_code              0.000403   0.061077  ...        -0.009569      0.020252\n",
              "region_code            0.004599  -0.003426  ...        -0.007721      0.021114\n",
              "op_area                0.001556  -0.111866  ...        -0.034671      0.031985\n",
              "center_type_TYPE_B     0.009278  -0.091956  ...        -0.011982      0.002360\n",
              "center_type_TYPE_C    -0.004501  -0.061088  ...         0.027388     -0.016323\n",
              "category_Biryani      -0.008558  -0.002604  ...        -0.131997     -0.128540\n",
              "category_Desert       -0.004501   0.004250  ...        -0.158943     -0.154780\n",
              "category_Extras       -0.004190  -0.051971  ...        -0.106209      0.296006\n",
              "category_Fish          0.114409  -0.003596  ...        -0.091701     -0.089299\n",
              "category_Other Snacks -0.000550   0.004672  ...        -0.159189      0.443662\n",
              "category_Pasta        -0.015445   0.004989  ...         0.418645     -0.150213\n",
              "category_Pizza        -0.010520   0.007296  ...        -0.169815     -0.165368\n",
              "category_Rice Bowl    -0.011051   0.007127  ...        -0.170555     -0.166088\n",
              "category_Salad         0.053558   0.006638  ...         0.425562     -0.152695\n",
              "category_Sandwich     -0.010445   0.007238  ...         0.462029     -0.165779\n",
              "category_Seafood      -0.008292   0.001414  ...        -0.151933     -0.147954\n",
              "category_Soup         -0.000995  -0.045336  ...        -0.102574      0.285876\n",
              "category_Starters     -0.014200   0.000265  ...        -0.160810      0.448180\n",
              "cuisine_Indian        -0.014755   0.007043  ...        -0.347331     -0.338234\n",
              "cuisine_Italian        0.008291   0.014692  ...         1.000000     -0.358807\n",
              "cuisine_Thai          -0.015935  -0.029823  ...        -0.358807      1.000000\n",
              "\n",
              "[27 rows x 27 columns]"
            ]
          },
          "metadata": {
            "tags": []
          },
          "execution_count": 80
        }
      ]
    },
    {
      "cell_type": "markdown",
      "metadata": {
        "id": "6dmueuj7QtdK",
        "colab_type": "text"
      },
      "source": [
        "# Decision Tree's"
      ]
    },
    {
      "cell_type": "code",
      "metadata": {
        "id": "Wj_z_Bd8DVRF",
        "colab_type": "code",
        "outputId": "5019e9fa-b054-42a1-be1b-3f892c71ecd8",
        "colab": {
          "base_uri": "https://localhost:8080/",
          "height": 145
        }
      },
      "source": [
        "from sklearn.tree import DecisionTreeRegressor\n",
        "from sklearn.model_selection import cross_val_score\n",
        "from sklearn.model_selection import KFold\n",
        "from sklearn.metrics import mean_squared_error\n",
        "kfolds = KFold(n_splits=5, shuffle=True, random_state=42)\n",
        "\n",
        "y = Y\n",
        "x = X\n",
        "\n",
        "base_score, train_scores, val_scores, train_rmse, val_rmse = [], [], [], [], []\n",
        "model = DecisionTreeRegressor(max_depth = 20)\n",
        "\n",
        "for train_idx, val_idx in kfolds.split(x):\n",
        "    x_train, y_train = x.iloc[train_idx], y.iloc[train_idx]\n",
        "    x_val, y_val = x.iloc[val_idx], y.iloc[val_idx]\n",
        "    model.fit(x_train, y_train)\n",
        "    train_scores.append(model.score(x_train, y_train))\n",
        "    val_scores.append(model.score(x_val, y_val))\n",
        "    train_rmse.append(np.sqrt(mean_squared_error(y_train,model.predict(x_train))))\n",
        "    val_rmse.append(np.sqrt(mean_squared_error(y_val,model.predict(x_val))))\n",
        "    y_val[:]=Y.mean()\n",
        "    base_score.append(np.sqrt(mean_squared_error(y_val,model.predict(x_val))))\n",
        "\n",
        "print(f'Score Promedio')\n",
        "print(f'Train      = {np.mean(train_scores):.4}')\n",
        "print(f'Validation = {np.mean(val_scores):.4}')\n",
        "print(f'RMSE Promedio')\n",
        "print(f'Train      = {np.mean(train_rmse):.4}')\n",
        "print(f'Validation = {np.mean(val_rmse):.4}')\n",
        "print(f'Base Line Compare = {np.mean(base_score):.4}')"
      ],
      "execution_count": 0,
      "outputs": [
        {
          "output_type": "stream",
          "text": [
            "Score Promedio\n",
            "Train      = 0.9634\n",
            "Validation = 0.7657\n",
            "RMSE Promedio\n",
            "Train      = 75.28\n",
            "Validation = 190.5\n",
            "Base Line Compare = 391.4\n"
          ],
          "name": "stdout"
        }
      ]
    },
    {
      "cell_type": "code",
      "metadata": {
        "id": "EeXnNhu3ywVS",
        "colab_type": "code",
        "outputId": "ea550920-0610-46f2-a165-0581e66ffe45",
        "colab": {
          "base_uri": "https://localhost:8080/",
          "height": 293
        }
      },
      "source": [
        "from sklearn.model_selection import learning_curve\n",
        "import matplotlib.pyplot as plt\n",
        "\n",
        "# Create CV training and test scores for various training set sizes\n",
        "train_sizes, train_scores, test_scores = learning_curve(model, \n",
        "                                                        X, \n",
        "                                                        Y,\n",
        "                                                        # Number of folds in cross-validation\n",
        "                                                        cv=5)\n",
        "\n",
        "# Create means and standard deviations of training set scores\n",
        "train_mean = np.mean(train_scores, axis=1)\n",
        "train_std = np.std(train_scores, axis=1)\n",
        "\n",
        "# Create means and standard deviations of test set scores\n",
        "test_mean = np.mean(test_scores, axis=1)\n",
        "test_std = np.std(test_scores, axis=1)\n",
        "\n",
        "# Draw lines\n",
        "plt.plot(train_sizes, train_mean, '--', color=\"#111111\",  label=\"Training score\")\n",
        "plt.plot(train_sizes, test_mean, color=\"#111111\", label=\"Cross-validation score\")\n",
        "\n",
        "# Draw bands\n",
        "plt.fill_between(train_sizes, train_mean - train_std, train_mean + train_std, color=\"#DDDDDD\")\n",
        "plt.fill_between(train_sizes, test_mean - test_std, test_mean + test_std, color=\"#DDDDDD\")\n",
        "\n",
        "# Create plot\n",
        "plt.title(\"Learning Curve\")\n",
        "plt.xlabel(\"Training Set Size\"), plt.ylabel(\"Accuracy Score\"), plt.legend(loc=\"best\")\n",
        "plt.tight_layout()\n",
        "plt.show()"
      ],
      "execution_count": 0,
      "outputs": [
        {
          "output_type": "display_data",
          "data": {
            "image/png": "[encoded data removed]",
            "text/plain": [
              "<Figure size 432x288 with 1 Axes>"
            ]
          },
          "metadata": {
            "tags": []
          }
        }
      ]
    },
    {
      "cell_type": "code",
      "metadata": {
        "id": "qmD-Y8di0IoJ",
        "colab_type": "code",
        "outputId": "06e4cb3b-8237-4ae9-f43d-895aff059b12",
        "colab": {
          "base_uri": "https://localhost:8080/",
          "height": 34
        }
      },
      "source": [
        "test_mean"
      ],
      "execution_count": 0,
      "outputs": [
        {
          "output_type": "execute_result",
          "data": {
            "text/plain": [
              "array([-7.73172278, -4.07168978, -2.16112868, -1.91831189, -1.13624289])"
            ]
          },
          "metadata": {
            "tags": []
          },
          "execution_count": 83
        }
      ]
    },
    {
      "cell_type": "code",
      "metadata": {
        "id": "YJxLElGZFfAv",
        "colab_type": "code",
        "outputId": "a435fa2d-a9df-423b-b941-bd797df95803",
        "colab": {
          "base_uri": "https://localhost:8080/",
          "height": 126
        }
      },
      "source": [
        "#Probamos eliminando algunas columnas con información similar.\n",
        "\n",
        "X_prima = X.drop(columns =[\"week\",\"meal_id\",\"center_id\",\"city_code\",\"region_code\"], axis=1)\n",
        "\n",
        "from sklearn.tree import DecisionTreeRegressor\n",
        "from sklearn.model_selection import cross_val_score\n",
        "from sklearn.model_selection import KFold\n",
        "from sklearn.metrics import mean_squared_error\n",
        "kfolds = KFold(n_splits=5, shuffle=True, random_state=42)\n",
        "\n",
        "y = Y\n",
        "x = X_prima\n",
        "\n",
        "train_scores, val_scores, train_rmse, val_rmse = [], [], [], []\n",
        "model = DecisionTreeRegressor(max_depth = 10)\n",
        "\n",
        "for train_idx, val_idx in kfolds.split(x):\n",
        "    x_train, y_train = x.iloc[train_idx], y.iloc[train_idx]\n",
        "    x_val, y_val = x.iloc[val_idx], y.iloc[val_idx]\n",
        "    model.fit(x_train, y_train)\n",
        "    train_scores.append(model.score(x_train, y_train))\n",
        "    val_scores.append(model.score(x_val, y_val))\n",
        "    train_rmse.append(np.sqrt(mean_squared_error(y_train,model.predict(x_train))))\n",
        "    val_rmse.append(np.sqrt(mean_squared_error(y_val,model.predict(x_val))))\n",
        "    \n",
        "print(f'Score Promedio')\n",
        "print(f'Train      = {np.mean(train_scores):.4}')\n",
        "print(f'Validation = {np.mean(val_scores):.4}')\n",
        "print(f'RMSE Promedio')\n",
        "print(f'Train      = {np.mean(train_rmse):.4}')\n",
        "print(f'Validation = {np.mean(val_rmse):.4}')"
      ],
      "execution_count": 0,
      "outputs": [
        {
          "output_type": "stream",
          "text": [
            "Score Promedio\n",
            "Train      = 0.7129\n",
            "Validation = 0.6457\n",
            "RMSE Promedio\n",
            "Train      = 210.9\n",
            "Validation = 234.3\n"
          ],
          "name": "stdout"
        }
      ]
    },
    {
      "cell_type": "markdown",
      "metadata": {
        "colab_type": "text",
        "id": "WLtyIOjygDxA"
      },
      "source": [
        "# Random Forest - Regresión"
      ]
    },
    {
      "cell_type": "code",
      "metadata": {
        "id": "hp0hXyWrW0sB",
        "colab_type": "code",
        "outputId": "5b3f6955-944b-465b-8a4a-5d6ded6c543f",
        "colab": {
          "base_uri": "https://localhost:8080/",
          "height": 163
        }
      },
      "source": [
        "from sklearn.ensemble import RandomForestRegressor\n",
        "from sklearn.model_selection import cross_val_score\n",
        "from sklearn.model_selection import KFold\n",
        "from sklearn.metrics import mean_squared_error\n",
        "kfolds = KFold(n_splits=5, shuffle=True, random_state=42)\n",
        "\n",
        "y = Y\n",
        "x = X_prima\n",
        "\n",
        "base_score, train_scores, val_scores, train_rmse, val_rmse = [], [], [], [], []\n",
        "model = RandomForestRegressor(n_estimators = 100, random_state = 42)\n",
        "\n",
        "for train_idx, val_idx in kfolds.split(x):\n",
        "    x_train, y_train = x.iloc[train_idx], y.iloc[train_idx]\n",
        "    x_val, y_val = x.iloc[val_idx], y.iloc[val_idx]\n",
        "    model.fit(x_train, y_train)\n",
        "    train_scores.append(model.score(x_train, y_train))\n",
        "    val_scores.append(model.score(x_val, y_val))\n",
        "    train_rmse.append(np.sqrt(mean_squared_error(y_train,model.predict(x_train))))\n",
        "    val_rmse.append(np.sqrt(mean_squared_error(y_val,model.predict(x_val))))\n",
        "    y_val[:]=Y.mean()\n",
        "    base_score.append(np.sqrt(mean_squared_error(y_val,model.predict(x_val))))\n",
        "print(f'Score Promedio')\n",
        "print(f'Train      = {np.mean(train_scores):.4}')\n",
        "print(f'Validation = {np.mean(val_scores):.4}')\n",
        "print(f'RMSE Promedio')\n",
        "print(f'Train      = {np.mean(train_rmse):.4}')\n",
        "print(f'Validation = {np.mean(val_rmse):.4}')\n",
        "print(f'Validation = {np.mean(val_rmse):.4}')\n",
        "print(f'Base Line Compare = {np.mean(base_score):.4}')\n",
        "\n",
        "#https://towardsdatascience.com/random-forest-in-python-24d0893d51c0"
      ],
      "execution_count": 0,
      "outputs": [
        {
          "output_type": "stream",
          "text": [
            "Score Promedio\n",
            "Train      = 0.9447\n",
            "Validation = 0.7727\n",
            "RMSE Promedio\n",
            "Train      = 92.54\n",
            "Validation = 187.6\n",
            "Validation = 187.6\n",
            "Base Line Compare = 362.0\n"
          ],
          "name": "stdout"
        }
      ]
    },
    {
      "cell_type": "markdown",
      "metadata": {
        "colab_type": "text",
        "id": "VjY-xJ8IDLpr"
      },
      "source": [
        "# Gradient Boosting Regression"
      ]
    },
    {
      "cell_type": "code",
      "metadata": {
        "id": "ZBlAXch4DLUQ",
        "colab_type": "code",
        "outputId": "a1c82dda-ad94-4717-a149-78a5cf1c1d37",
        "colab": {
          "base_uri": "https://localhost:8080/",
          "height": 153
        }
      },
      "source": [
        "from sklearn.ensemble import GradientBoostingRegressor\n",
        "from sklearn.model_selection import cross_val_score\n",
        "from sklearn.model_selection import KFold\n",
        "from sklearn.metrics import mean_squared_error\n",
        "kfolds = KFold(n_splits=5, shuffle=True, random_state=42)\n",
        "\n",
        "y = Y\n",
        "x = X\n",
        "\n",
        "base_score, train_scores, val_scores, train_rmse, val_rmse = [], [], [], [], []\n",
        "\n",
        "model = GradientBoostingRegressor(loss='ls',\n",
        "                                n_estimators=200, max_depth=8,\n",
        "                                learning_rate=0.1, min_samples_leaf=8,\n",
        "                                min_samples_split=8)\n",
        "\n",
        "for train_idx, val_idx in kfolds.split(x):\n",
        "    x_train, y_train = x.iloc[train_idx], y.iloc[train_idx]\n",
        "    x_val, y_val = x.iloc[val_idx], y.iloc[val_idx]\n",
        "    model.fit(x_train, y_train)\n",
        "    train_scores.append(model.score(x_train, y_train))\n",
        "    val_scores.append(model.score(x_val, y_val))\n",
        "    train_rmse.append(np.sqrt(mean_squared_error(y_train,model.predict(x_train))))\n",
        "    val_rmse.append(np.sqrt(mean_squared_error(y_val,model.predict(x_val))))\n",
        "    y_val[:]=Y.mean()\n",
        "    base_score.append(np.sqrt(mean_squared_error(y_val,model.predict(x_val))))\n",
        "print(f'Score Promedio')\n",
        "print(f'Train      = {np.mean(train_scores):.4}')\n",
        "print(f'Validation = {np.mean(val_scores):.4}')\n",
        "print(f'RMSE Promedio')\n",
        "print(f'Train      = {np.mean(train_rmse):.4}')\n",
        "print(f'Validation = {np.mean(val_rmse):.4}')\n",
        "print(f'Validation = {np.mean(val_rmse):.4}')\n",
        "print(f'Base Line Compare = {np.mean(base_score):.4}')"
      ],
      "execution_count": 0,
      "outputs": [
        {
          "output_type": "stream",
          "text": [
            "Score Promedio\n",
            "Train      = 0.9089\n",
            "Validation = 0.8721\n",
            "RMSE Promedio\n",
            "Train      = 118.8\n",
            "Validation = 140.8\n",
            "Validation = 140.8\n",
            "Base Line Compare = 358.2\n"
          ],
          "name": "stdout"
        }
      ]
    },
    {
      "cell_type": "code",
      "metadata": {
        "id": "JdbsLxUdMXeu",
        "colab_type": "code",
        "outputId": "4ff5e5d6-ebe5-4e95-9328-061d451454df",
        "colab": {
          "base_uri": "https://localhost:8080/",
          "height": 163
        }
      },
      "source": [
        "from sklearn.ensemble import GradientBoostingRegressor\n",
        "from sklearn.model_selection import cross_val_score\n",
        "from sklearn.model_selection import KFold\n",
        "from sklearn.metrics import mean_squared_error\n",
        "kfolds = KFold(n_splits=5, shuffle=True, random_state=42)\n",
        "\n",
        "y = Y\n",
        "x = X_prima\n",
        "\n",
        "base_score, train_scores, val_scores, train_rmse, val_rmse = [], [], [], [], []\n",
        "\n",
        "model = GradientBoostingRegressor(loss='ls',\n",
        "                                n_estimators=200, max_depth=8,\n",
        "                                learning_rate=0.1, min_samples_leaf=8,\n",
        "                                min_samples_split=8)\n",
        "\n",
        "for train_idx, val_idx in kfolds.split(x):\n",
        "    x_train, y_train = x.iloc[train_idx], y.iloc[train_idx]\n",
        "    x_val, y_val = x.iloc[val_idx], y.iloc[val_idx]\n",
        "    model.fit(x_train, y_train)\n",
        "    train_scores.append(model.score(x_train, y_train))\n",
        "    val_scores.append(model.score(x_val, y_val))\n",
        "    train_rmse.append(np.sqrt(mean_squared_error(y_train,model.predict(x_train))))\n",
        "    val_rmse.append(np.sqrt(mean_squared_error(y_val,model.predict(x_val))))\n",
        "    y_val[:]=Y.mean()\n",
        "    base_score.append(np.sqrt(mean_squared_error(y_val,model.predict(x_val))))\n",
        "print(f'Score Promedio')\n",
        "print(f'Train      = {np.mean(train_scores):.4}')\n",
        "print(f'Validation = {np.mean(val_scores):.4}')\n",
        "print(f'RMSE Promedio')\n",
        "print(f'Train      = {np.mean(train_rmse):.4}')\n",
        "print(f'Validation = {np.mean(val_rmse):.4}')\n",
        "print(f'Validation = {np.mean(val_rmse):.4}')\n",
        "print(f'Base Line Compare = {np.mean(base_score):.4}')"
      ],
      "execution_count": 0,
      "outputs": [
        {
          "output_type": "stream",
          "text": [
            "Score Promedio\n",
            "Train      = 0.819\n",
            "Validation = 0.7668\n",
            "RMSE Promedio\n",
            "Train      = 167.5\n",
            "Validation = 190.1\n",
            "Validation = 190.1\n",
            "Base Line Compare = 340.4\n"
          ],
          "name": "stdout"
        }
      ]
    }
  ]
}